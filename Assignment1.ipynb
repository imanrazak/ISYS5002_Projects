{
  "nbformat": 4,
  "nbformat_minor": 0,
  "metadata": {
    "colab": {
      "provenance": [],
      "authorship_tag": "ABX9TyOt2dludT5tv6mw/k+hR9h6",
      "include_colab_link": true
    },
    "kernelspec": {
      "name": "python3",
      "display_name": "Python 3"
    },
    "language_info": {
      "name": "python"
    }
  },
  "cells": [
    {
      "cell_type": "markdown",
      "metadata": {
        "id": "view-in-github",
        "colab_type": "text"
      },
      "source": [
        "<a href=\"https://colab.research.google.com/github/imanrazak/ISYS5002_Projects/blob/main/Assignment1.ipynb\" target=\"_parent\"><img src=\"https://colab.research.google.com/assets/colab-badge.svg\" alt=\"Open In Colab\"/></a>"
      ]
    },
    {
      "cell_type": "markdown",
      "source": [
        "# **Heart Condition Risk Prediction Application**"
      ],
      "metadata": {
        "id": "_FekkoxX0Iy9"
      }
    },
    {
      "cell_type": "markdown",
      "source": [
        "The main application below consists of 2 programs for the user to interact with. The code cells were created in such a way in which the user should run the code cells in order first so that all files are loaded in, then they may choose to run Program 1 again.\n",
        "\n",
        "The first program will plot the data in the CSV file \"User_Input_Health_Data.csv\" into 2 graphs, 1) bar chart displaying the number of patients in each Heart Risk Category, 2) a scatter plot graph displaying the patients' bmi against their age highlighting the Heart Risk.\n",
        "The user will have the option of choosing either the bar chart, scatter plot graph, or neither. Once chosen, the user is told they can run the program again to see the other visualisation.\n",
        "\n",
        "The second program is for the user to add more patients to the csv file, which will also predict the heart condition risk of the patient for the user. The user is then prompted if they would like to see a new visualisation, of either bar chart or scatter plot or neither, with the added data. They can then run program 1 again if they would like to see the other options."
      ],
      "metadata": {
        "id": "vruCYxJorpws"
      }
    },
    {
      "cell_type": "markdown",
      "source": [
        "#### **Importing all libraries first**"
      ],
      "metadata": {
        "id": "6b80ybmZrhUH"
      }
    },
    {
      "cell_type": "code",
      "execution_count": null,
      "metadata": {
        "id": "GDoznilSPDhg"
      },
      "outputs": [],
      "source": [
        "\n",
        "# import relevant libraries\n",
        "import csv\n",
        "import numpy as np\n",
        "import pandas as pd\n",
        "import matplotlib"
      ]
    },
    {
      "cell_type": "markdown",
      "source": [
        "####**Writing Heart Condition Risk Prediction Table to CSV**"
      ],
      "metadata": {
        "id": "6O82Wo_MruFA"
      }
    },
    {
      "cell_type": "code",
      "source": [
        "#create csv file detailing Heart Condition Risk Prediction\n",
        "\n",
        "\n",
        "with open(\"Heart_Condition_Risk_Prediction.csv\", 'w' ) as health_data:\n",
        "\n",
        "  writer = csv.writer(health_data)\n",
        "\n",
        "  writer.writerow(['BMI Category', 'Smoking Status', 'Alcohol Consumption Status', 'Physical Activity Status', 'Heart Condition Risk' ])\n",
        "\n",
        "  writer.writerow(['Underweight', 'Non-smoker', 'Non-drinker', 'Inactive', 'Medium'])\n",
        "  writer.writerow(['Underweight', 'Non-smoker', 'Non-drinker', 'Active', 'Low'])\n",
        "  writer.writerow(['Underweight', 'Non-smoker', 'Drinker', 'Inactive', 'Medium'])\n",
        "  writer.writerow(['Underweight', 'Non-smoker', 'Drinker', 'Active', 'Low'])\n",
        "#underweight smoker\n",
        "  writer.writerow(['Underweight', 'Smoker', 'Non-drinker', 'Inactive', 'High'])\n",
        "  writer.writerow(['Underweight', 'Smoker', 'Non-drinker', 'Active', 'High'])\n",
        "  writer.writerow(['Underweight', 'Smoker', 'Drinker', 'Inactive', 'High'])\n",
        "  writer.writerow(['Underweight', 'Smoker', 'Drinker', 'Active', 'High'])\n",
        "#normal weight\n",
        "  writer.writerow(['Normal weight', 'Non-smoker', 'Non-drinker', 'Inactive', 'Medium'])\n",
        "  writer.writerow(['Normal weight', 'Non-smoker', 'Non-drinker', 'Active', 'Low'])\n",
        "  writer.writerow(['Normal weight', 'Non-smoker', 'Drinker', 'Inactive', 'Medium'])\n",
        "  writer.writerow(['Normal weight', 'Non-smoker', 'Drinker', 'Active', 'Low'])\n",
        "#normal weight smoker\n",
        "  writer.writerow(['Normal weight', 'Smoker', 'Non-drinker', 'Inactive', 'Medium'])\n",
        "  writer.writerow(['Normal weight', 'Smoker', 'Non-drinker', 'Active', 'Medium'])\n",
        "  writer.writerow(['Normal weight', 'Smoker', 'Drinker', 'Inactive', 'High'])\n",
        "  writer.writerow(['Normal weight', 'Smoker', 'Drinker', 'Active', 'Medium'])\n",
        "#overweight\n",
        "  writer.writerow(['Overweight', 'Non-smoker', 'Non-drinker', 'Inactive', 'Medium'])\n",
        "  writer.writerow(['Overweight', 'Non-smoker', 'Non-drinker', 'Active', 'Medium'])\n",
        "  writer.writerow(['Overweight', 'Non-smoker', 'Drinker', 'Inactive', 'Medium'])\n",
        "  writer.writerow(['Overweight', 'Non-smoker', 'Drinker', 'Active', 'Medium'])\n",
        "#overweight smoker\n",
        "  writer.writerow(['Overweight', 'Smoker', 'Non-drinker', 'Inactive', 'High'])\n",
        "  writer.writerow(['Overweight', 'Smoker', 'Non-drinker', 'Active', 'High'])\n",
        "  writer.writerow(['Overweight', 'Smoker', 'Drinker', 'Inactive', 'High'])\n",
        "  writer.writerow(['Overweight', 'Smoker', 'Drinker', 'Active', 'High'])\n",
        "#Obesity\n",
        "  writer.writerow(['Obesity', 'Non-smoker', 'Non-drinker', 'Inactive', 'High'])\n",
        "  writer.writerow(['Obesity', 'Non-smoker', 'Non-drinker', 'Active', 'High'])\n",
        "  writer.writerow(['Obesity', 'Non-smoker', 'Drinker', 'Inactive', 'High'])\n",
        "  writer.writerow(['Obesity', 'Non-smoker', 'Drinker', 'Active', 'High'])\n",
        "#Obesity smoker\n",
        "  writer.writerow(['Obesity', 'Smoker', 'Non-drinker', 'Inactive', 'High'])\n",
        "  writer.writerow(['Obesity', 'Smoker', 'Non-drinker', 'Active', 'High'])\n",
        "  writer.writerow(['Obesity', 'Smoker', 'Drinker', 'Inactive', 'High'])\n",
        "  writer.writerow(['Obesity', 'Smoker', 'Drinker', 'Active', 'High'])\n"
      ],
      "metadata": {
        "id": "g6_RQWDl_nxq"
      },
      "execution_count": null,
      "outputs": []
    },
    {
      "cell_type": "markdown",
      "source": [
        "####**Opening New CSV file for User Input Health Data**"
      ],
      "metadata": {
        "id": "8gE4bkPvsALv"
      }
    },
    {
      "cell_type": "code",
      "source": [
        "#create csv file for patient data\n",
        "with open(\"User_Input_Health_Data.csv\", 'w') as file:\n",
        "\n",
        "  writer = csv.writer(file)\n",
        "\n",
        "  writer.writerow(['Name', 'Age', 'Gender', 'Weight', 'Height', 'BMI Number', 'BMI Category', 'Smoking Status', 'Alcohol Consumption Status', 'Physical Activity Status', 'Heart Condition Risk'])\n",
        "\n",
        "\n",
        "## adding sample data for better visualisation later\n",
        "  writer.writerow(['James', '23', 'Male', '67.0', '1.69', '23.46', 'Normal weight', 'Smoker', 'Drinker', 'Inactive', 'High'])\n",
        "  writer.writerow(['Alice', '30', 'Female', '56.0', '1.65', '20.57', 'Normal weight', 'Non-smoker', 'Drinker', 'Active', 'Low'])\n",
        "  writer.writerow(['Jason', '78', 'Male', '85.0', '1.9', '23.55', 'Normal weight', 'Smoker', 'Drinker', 'Active', 'Medium'])\n",
        "  writer.writerow(['Obiwan', '15', 'Male', '50.0', '1.64', '18.59', 'Normal weight', 'Non-smoker', 'Non-drinker', 'Active', 'Low'])\n",
        "  writer.writerow(['Mariah', '67', 'Female', '80.0', '1.63', '30.11', 'Obesity', 'Smoker', 'Non-drinker', 'Inactive', 'High'])\n",
        "  writer.writerow(['Mandy', '49', 'Female', '68.0', '1.49', '30.63', 'Obesity', 'Non-smoker', 'Drinker', 'Inactive', 'High'])\n",
        "  writer.writerow(['Louisa', '55', 'Female', '75.0', '1.6', '29.3', 'Overweight', 'Non-smoker', 'Drinker', 'Inactive', 'Medium'])\n",
        "  writer.writerow(['Andy', '35', 'Male', '74.0', '1.62', '28.2', 'Overweight', 'Smoker', 'Drinker', 'Active', 'High'])\n",
        "  writer.writerow(['Jackson', '83', 'Male', '54.0', '1.68', '19.13', 'Normal weight', 'Smoker', 'Drinker', 'Active', 'Medium'])\n",
        "  writer.writerow(['Anisa', '68', 'Female', '41.0', '1.53', '17.51', 'Underweight', 'Non-smoker', 'Non-drinker', 'Active', 'Low'])\n",
        "  writer.writerow(['Army', '97', 'Male', '88.0', '1.9', '24.38', 'Normal weight', 'Smoker', 'Non-drinker', 'Active', 'Medium'])\n",
        "  writer.writerow(['Lizzy', '33', 'Female', '56.0', '1.65', '20.57', 'Normal weight', 'Non-smoker', 'Drinker', 'Active', 'Low'])\n",
        "  writer.writerow(['Victor', '41', 'Male', '73.0', '1.6', '28.52', 'Overweight', 'Non-smoker', 'Drinker', 'Active', 'Medium'])\n",
        "  writer.writerow(['Elise', '45', 'Male', '73.0', '1.74', '24.11', 'Normal weight', 'Smoker', 'Non-drinker', 'Inactive', 'Medium'])\n",
        "  writer.writerow(['Janice', '19', 'Female', '46.0', '1.63', '17.31', 'Underweight', 'Smoker', 'Drinker', 'Inactive', 'High'])\n",
        "  writer.writerow(['Paul', '46', 'Male', '65.0', '1.65', '23.88', 'Normal weight', 'Non-smoker', 'Non-drinker', 'Active', 'Low'])\n",
        "\n"
      ],
      "metadata": {
        "id": "WGsswpiV88JJ"
      },
      "execution_count": null,
      "outputs": []
    },
    {
      "cell_type": "markdown",
      "source": [
        "## Program 1: Visualisation of existing data"
      ],
      "metadata": {
        "id": "64Oq8xZ00ctk"
      }
    },
    {
      "cell_type": "code",
      "source": [
        "#create program with 2 options of visualising the data\n",
        "#defining bar chart visualisation\n",
        "def barchart_vis():\n",
        "  from matplotlib import pyplot as plt\n",
        "  plt.style.use('_mpl-gallery')\n",
        "\n",
        "  df = pd.read_csv(\"User_Input_Health_Data.csv\")\n",
        "\n",
        "  risk_counts = df['Heart Condition Risk'].value_counts()\n",
        "\n",
        "  #plot\n",
        "  plt.figure(figsize=(8, 4.5))\n",
        "  plt.bar(risk_counts.index, risk_counts.values, color='skyblue')\n",
        "  plt.xlabel('Heart Condition Risk Category')\n",
        "  plt.ylabel('Number of Patients')\n",
        "  plt.title('Number of Patients in Each Heart Condition Risk Category')\n",
        "\n",
        "  #show\n",
        "  plt.show()\n",
        "\n",
        "#defining scatter plot graph visualisation\n",
        "def scatplot_vis():\n",
        "  from matplotlib import pyplot as plt\n",
        "  df = pd.read_csv(\"User_Input_Health_Data.csv\")\n",
        "  # Create a color mapping based on the risk category\n",
        "  colors = {'Low': 'green', 'Medium': 'orange', 'High': 'red', 'Unknown': 'gray'}\n",
        "\n",
        "  plt.figure(figsize=(8, 4.8))\n",
        "\n",
        "  # Plot each point\n",
        "  for risk_category in df['Heart Condition Risk'].unique():\n",
        "      subset = df[df['Heart Condition Risk'] == risk_category]\n",
        "      plt.scatter(subset['BMI Number'], subset['Age'],\n",
        "                      c=colors[risk_category], label=risk_category, s=100)\n",
        "\n",
        "  # Add labels and title\n",
        "  plt.xlabel('BMI')\n",
        "  plt.ylabel('Age')\n",
        "  plt.title('Scatter Plot of BMI vs Age Highlighting Heart Condition Risk Categories')\n",
        "\n",
        "  # Add a legend\n",
        "  plt.legend(title='Risk Category')\n",
        "\n",
        "  # Show the plot\n",
        "  plt.show()\n",
        "\n",
        "#Letting user know what the program does\n",
        "print(\"Welcome.\")\n",
        "print(\"This program is for visualising the existing data.\")\n",
        "\n",
        "#Creating loop to give user option to leave program\n",
        "start_program = None\n",
        "while start_program not in ['y', 'n']:\n",
        "  start_program = input(\"Do you wish to continue? (y/n) \")\n",
        "  if start_program == \"n\":\n",
        "    print(\"Thank you. Exiting program\")\n",
        "    break\n",
        "  elif start_program == \"y\":\n",
        "\n",
        "    user_choice = None\n",
        "\n",
        "    while user_choice not in [\"b\", \"s\", \"n\"]:\n",
        "        user_choice = input(\"Would you like to see bar chart (b), scatter plot (s), or neither (n)? \").lower()\n",
        "\n",
        "        if user_choice == \"b\":\n",
        "          print(\"This is the barchart.\")\n",
        "          barchart_vis()\n",
        "          print(\"To see other options again, rerun the program.\")\n",
        "          print(\"Have a nice day.\")\n",
        "          break\n",
        "        elif user_choice == \"s\":\n",
        "          print(\"This is the scatter plot.\")\n",
        "          scatplot_vis()\n",
        "          print(\"To see other options again, rerun the program.\")\n",
        "          print(\"Have a nice day.\")\n",
        "          break\n",
        "        elif user_choice == \"n\":\n",
        "            print(\"No visualization selected.\")\n",
        "            break  # Exit the loop if the user selects neither\n",
        "        else:\n",
        "            print(\"Invalid input. Please enter 'b' for bar chart, 's' for scatter plot, or 'n' for neither.\")\n",
        "            continue  # Skip asking to continue, since the input was invalid\n",
        "\n",
        "  else:\n",
        "    print(\"Invalid input. Please enter 'y' for yes, or 'n' for no.\")\n"
      ],
      "metadata": {
        "colab": {
          "base_uri": "https://localhost:8080/"
        },
        "id": "5P7EHMldAbrN",
        "outputId": "655af34f-ee13-49c3-92e8-6caad103abe2",
        "collapsed": true
      },
      "execution_count": null,
      "outputs": [
        {
          "output_type": "stream",
          "name": "stdout",
          "text": [
            "Welcome.\n",
            "This program is for visualising the existing data.\n",
            "Do you wish to continue? (y/n) n\n",
            "Thank you. Exiting program\n"
          ]
        }
      ]
    },
    {
      "cell_type": "markdown",
      "source": [
        "## Program 2: Heart Condition Risk Prediction"
      ],
      "metadata": {
        "id": "FS3OtRoi0oFh"
      }
    },
    {
      "cell_type": "code",
      "source": [
        "\n",
        "#Welcome messages so user knows what program does.\n",
        "print(\"Welcome.\")\n",
        "print(\"This program is for adding new patient data, determining the heart condition risk and getting one option of the updated visualisation of the data.\")\n",
        "\n",
        "#redefining the visualisation functions in case user does not run program 1\n",
        "#defining bar chart visualisation\n",
        "def barchart_vis():\n",
        "  from matplotlib import pyplot as plt\n",
        "  plt.style.use('_mpl-gallery')\n",
        "\n",
        "  df = pd.read_csv(\"User_Input_Health_Data.csv\")\n",
        "\n",
        "  risk_counts = df['Heart Condition Risk'].value_counts()\n",
        "\n",
        "  #plot\n",
        "  plt.figure(figsize=(8, 4.5))\n",
        "  plt.bar(risk_counts.index, risk_counts.values, color='skyblue')\n",
        "  plt.xlabel('Heart Condition Risk Category')\n",
        "  plt.ylabel('Number of Patients')\n",
        "  plt.title('Number of Patients in Each Heart Condition Risk Category')\n",
        "\n",
        "  #show\n",
        "  plt.show()\n",
        "\n",
        "#defining scatter plot graph visualisation\n",
        "def scatplot_vis():\n",
        "  from matplotlib import pyplot as plt\n",
        "  df = pd.read_csv(\"User_Input_Health_Data.csv\")\n",
        "  # Create a color mapping based on the risk category\n",
        "  colors = {'Low': 'green', 'Medium': 'orange', 'High': 'red', 'Unknown': 'gray'}\n",
        "\n",
        "  plt.figure(figsize=(8, 4.8))\n",
        "\n",
        "  # Plot each point\n",
        "  for risk_category in df['Heart Condition Risk'].unique():\n",
        "      subset = df[df['Heart Condition Risk'] == risk_category]\n",
        "      plt.scatter(subset['BMI Number'], subset['Age'],\n",
        "                      c=colors[risk_category], label=risk_category, s=100)\n",
        "\n",
        "  # Add labels and title\n",
        "  plt.xlabel('BMI')\n",
        "  plt.ylabel('Age')\n",
        "  plt.title('Scatter Plot of BMI vs Age Highlighting Heart Condition Risk Categories')\n",
        "\n",
        "  # Add a legend\n",
        "  plt.legend(title='Risk Category')\n",
        "\n",
        "  # Show the plot\n",
        "  plt.show()\n",
        "\n",
        "#ask user if they wish to continue. If not exit the program.\n",
        "#creating loop so user can choose to leave program\n",
        "start_program = None\n",
        "while start_program not in ['y', 'n']:\n",
        "  start_program = input(\"Do you wish to continue? (y/n) \")\n",
        "  if start_program == \"n\":\n",
        "    print(\"Thank you. Exiting program\")\n",
        "    break\n",
        "  elif start_program == \"y\":\n",
        "    with open(\"User_Input_Health_Data.csv\", 'a', newline='') as file: #Opening User Input csv file for adding new rows\n",
        "      writer = csv.writer(file)\n",
        "\n",
        "      # creating loop for user to continue adding new rows if they wish\n",
        "      continue_input = \"y\"\n",
        "      while continue_input == \"y\":\n",
        "        # get user input name\n",
        "        name = input(\"Please enter patient name: \")\n",
        "\n",
        "        #get user input age\n",
        "        def age_num():\n",
        "          age = None\n",
        "          while age is None or age > 120 or age < 0:\n",
        "            try:\n",
        "              age = int(input(\"Please enter patient age: \"))\n",
        "              if 0 <= age <= 120:\n",
        "                return age\n",
        "              else:\n",
        "                print(\"Invalid input for age. Age cannot be less than 0 or more than 120.\")\n",
        "            except ValueError:\n",
        "              print(\"Invalid input for age. Please enter integer value for age.\")\n",
        "\n",
        "\n",
        "        #get user input gender\n",
        "        def gen():\n",
        "          gender = None\n",
        "          while gender not in [\"m\", \"f\"]:\n",
        "              gender = input(\"Please enter patient gender (m/f): \")\n",
        "              if gender == \"f\":\n",
        "                return \"Female\"\n",
        "              elif gender == \"m\":\n",
        "                return \"Male\"\n",
        "              else:\n",
        "                print (gender + \" is not a valid gender. Please enter 'm' or 'f'.\")\n",
        "\n",
        "\n",
        "        #get user input weight\n",
        "        def weight_num():\n",
        "          weight = None\n",
        "          while weight is None or weight < 1:\n",
        "            try:\n",
        "              weight = float(input(\"Please enter patient's weight in kg: \"))\n",
        "              if weight > 1:\n",
        "                return weight\n",
        "              else:\n",
        "                print(\"Invalid input for weight. Weight must be more than 1 kg.\")\n",
        "            except ValueError:\n",
        "              print(\"Invalid input for weight. Please key in a numerical value for weight in kg.\")\n",
        "\n",
        "\n",
        "        #get user input height\n",
        "        def height_num():\n",
        "          height = None\n",
        "          while height is None or height > 3:\n",
        "            try:\n",
        "              height = float(input(\"Please enter patient's height in metres: \"))\n",
        "              if height <= 3 :\n",
        "                return height\n",
        "              else:\n",
        "                print(\"Invalid input for height. Please enter value for height in metres\")\n",
        "            except ValueError:\n",
        "              print(\"Invalid input for height. Please enter numerical value for height in metres\")\n",
        "\n",
        "        #calculate bmi number\n",
        "        def calc_bmi(weight, height):\n",
        "          bmi_num = weight / (height * height)\n",
        "          return float(round(bmi_num, 2))\n",
        "\n",
        "        #calculate bmi category\n",
        "        def calculate_bmi_category(weight, height):\n",
        "          bmi = weight / (height ** 2)\n",
        "          if bmi < 18.5:\n",
        "            return 'Underweight'\n",
        "          elif 18.5 <= bmi < 24.9:\n",
        "            return 'Normal weight'\n",
        "          elif 24.9 <= bmi < 29.9:\n",
        "            return 'Overweight'\n",
        "          else:\n",
        "            return 'Obesity'\n",
        "\n",
        "\n",
        "        #get user input for smoking status\n",
        "        def smoke_stat():\n",
        "          smoking_status = None\n",
        "          while smoking_status not in [\"y\", \"n\"]:\n",
        "              smoking_status = input(\"Is the patient a smoker? (y/n) \")\n",
        "              if smoking_status == \"y\":\n",
        "                return \"Smoker\"\n",
        "              elif smoking_status == \"n\":\n",
        "                return \"Non-smoker\"\n",
        "              else:\n",
        "                print(\"Input invalid. Please answer 'y' or 'n' \")\n",
        "\n",
        "        #get user input for drinking status\n",
        "        def drink_stat():\n",
        "          drinking_status = None\n",
        "          while drinking_status not in [\"y\", \"n\"]:\n",
        "            drinking_status = input(\"Does the patient drink alcohol? (y/n) \")\n",
        "            if drinking_status == \"y\":\n",
        "              return \"Drinker\"\n",
        "            elif drinking_status == \"n\":\n",
        "              return \"Non-drinker\"\n",
        "            else:\n",
        "              print(\"Input invalid. Please answer 'y' or 'n' \")\n",
        "\n",
        "        #get user input for physical activity status\n",
        "        def phys_stat():\n",
        "          physical_activity = None\n",
        "          while physical_activity not in [\"y\", \"n\"]:\n",
        "            physical_activity = input(\"Is the patient physically active? (y/n) \")\n",
        "            if physical_activity == \"y\":\n",
        "              return \"Active\"\n",
        "            elif physical_activity == \"n\":\n",
        "              return \"Inactive\"\n",
        "            else:\n",
        "                print(\"Input invalid. Please answer 'y' or 'n' \")\n",
        "\n",
        "\n",
        "      #collect user inputs\n",
        "        age = age_num()\n",
        "        gender = gen()\n",
        "        weight = weight_num()\n",
        "        height = height_num()\n",
        "        bmi_category = calculate_bmi_category(weight,height)\n",
        "        bmi_num = calc_bmi(weight,height)\n",
        "        smoking_status = smoke_stat()\n",
        "        drinking_status = drink_stat()\n",
        "        physical_activity = phys_stat()\n",
        "\n",
        "\n",
        "        #read heart_condition_risk_prediction csv file for risk assessment matrix\n",
        "\n",
        "        df_matrix = pd.read_csv(\"Heart_Condition_Risk_Prediction.csv\") #using panda to make the dataframe matrix\n",
        "\n",
        "        #create the function to predict heart condition risk\n",
        "\n",
        "        def predict_heart_condition_risk(bmi_category, smoking_status, drinking_status, physical_activity):\n",
        "          match_row = df_matrix[\n",
        "          (df_matrix[\"BMI Category\"] == bmi_category) &\n",
        "          (df_matrix[\"Smoking Status\"] == smoking_status) &\n",
        "          (df_matrix[\"Alcohol Consumption Status\"] == drinking_status) &\n",
        "          (df_matrix[\"Physical Activity Status\"] == physical_activity)\n",
        "          ]\n",
        "          if not match_row.empty:\n",
        "            return match_row[\"Heart Condition Risk\"].values[0]\n",
        "          else:\n",
        "            return \"Unknown\"\n",
        "        risk = predict_heart_condition_risk(bmi_category, smoking_status, drinking_status, physical_activity)\n",
        "\n",
        "\n",
        "        writer.writerow([name, age, gender, weight, height, bmi_num, bmi_category, smoking_status, drinking_status, physical_activity, risk])\n",
        "        print(f\"BMI= {bmi_num}, BMI category= {bmi_category}, Smoking= {smoking_status}, Drinking= {drinking_status}, Activity= {physical_activity}\")\n",
        "\n",
        "        print(f\"Heart Condition Risk is {risk}\")\n",
        "\n",
        "\n",
        "        #ask user if they want to continue inputting new data\n",
        "        continue_input = None #made continue_input = None so that new loop can be made when user incorrectly inputs not \"y\" or \"n\"\n",
        "        while continue_input not in [\"y\", \"n\"]:\n",
        "          try:\n",
        "            continue_input = input(\"Do you wish to add another patient? (y/n) \")\n",
        "            if continue_input == \"n\":\n",
        "              print(\"Thank you.\")\n",
        "              break\n",
        "            elif continue_input == \"y\":\n",
        "              print(\"Please fill out new patient details: \")\n",
        "            else:\n",
        "              print(\"Invalid input. Please enter 'y' or 'n'. \")\n",
        "          except ValueError:\n",
        "              print(\"Error input. Please enter 'y' or 'n'. \")\n",
        "\n",
        "    # Ask user to choose from visualisations\n",
        "    user_choice = None\n",
        "\n",
        "    while user_choice not in [\"b\", \"s\", \"n\"]:\n",
        "        user_choice = input(\"Would you like to see the new bar chart (b), scatter plot (s), or neither (n)? \").lower()\n",
        "\n",
        "        if user_choice == \"b\":\n",
        "            barchart_vis()\n",
        "            print(\" To see visualisation options again, run Program 1 above. Have a nice day.\")\n",
        "        elif user_choice == \"s\":\n",
        "            scatplot_vis()\n",
        "            print(\"To see visualisation options again, run Program 1 above. Have a nice day.\")\n",
        "        elif user_choice == \"n\":\n",
        "            print(\"No visualization selected. Exiting the program. Have a nice day.\")\n",
        "            break  # Exit the loop if the user selects neither\n",
        "        else:\n",
        "            print(\"Invalid input. Please enter 'b' for bar chart, 's' for scatter plot, or 'n' for neither.\")\n",
        "            continue  # Skip asking to continue, since the input was invalid\n",
        "\n",
        "\n",
        "  else:\n",
        "    print(\"Invalid input. Please enter 'y' for yes, or 'n' for no.\" )"
      ],
      "metadata": {
        "id": "o3oSD67cMaWd",
        "outputId": "ad361d23-8ab1-4f70-ce59-337fae218441",
        "colab": {
          "base_uri": "https://localhost:8080/"
        },
        "collapsed": true
      },
      "execution_count": null,
      "outputs": [
        {
          "output_type": "stream",
          "name": "stdout",
          "text": [
            "Welcome.\n",
            "This program is for adding new patient data, determining the heart condition risk and getting one option of the updated visualisation of the data.\n",
            "Do you wish to continue? (y/n) y\n",
            "Please enter patient name: Aidan\n",
            "Please enter patient age: 21\n",
            "Please enter patient gender (m/f): m\n",
            "Please enter patient's weight in kg: 49\n",
            "Please enter patient's height in metres: 1.74\n",
            "Is the patient a smoker? (y/n) n\n",
            "Does the patient drink alcohol? (y/n) n\n",
            "Is the patient physically active? (y/n) n\n",
            "BMI= 16.18, BMI category= Underweight, Smoking= Non-smoker, Drinking= Non-drinker, Activity= Inactive\n",
            "Heart Condition Risk is Medium\n",
            "Do you wish to add another patient? (y/n) n\n",
            "Thank you.\n",
            "Would you like to see the new bar chart (b), scatter plot (s), or neither (n)? n\n",
            "No visualization selected. Exiting the program. Have a nice day.\n"
          ]
        }
      ]
    },
    {
      "cell_type": "markdown",
      "source": [
        "# **Gen AI Usage**\n",
        "\n",
        "Used ChatGPT."
      ],
      "metadata": {
        "id": "eZj9LwD1zIjy"
      }
    },
    {
      "cell_type": "markdown",
      "source": [
        "###**Gen AI Prompt 1: Creating dataframe**"
      ],
      "metadata": {
        "id": "8FO8M5te21Od"
      }
    },
    {
      "cell_type": "markdown",
      "source": [
        "#### Gen AI Prompt:\n",
        "\n",
        "Asking Gen AI to use csv file to output heart condition risk."
      ],
      "metadata": {
        "id": "reF13_6UhwMa"
      }
    },
    {
      "cell_type": "code",
      "source": [
        "\n",
        "\n",
        "#Prompt: from the csv file above, make a code so user input will output the heart condition risk:\n",
        "\n",
        "\n",
        "##the following is the code given in the prompt:\n",
        "\n",
        "#create csv file detailing Heart Condition Risk Prediction\n",
        "\n",
        "with open(\"Heart_Condition_Risk_Prediction.csv\", 'w' ) as health_data:\n",
        "\n",
        "  writer = csv.writer(health_data)\n",
        "\n",
        "  writer.writerow(['BMI Category', 'Smoking Status', 'Alcohol Consumption Status', 'Physical Activity Status', 'Heart Condition Risk' ])\n",
        "\n",
        "  writer.writerow(['Underweight', 'Non-smoker', 'Non-drinker', 'Inactive', 'Medium'])\n",
        "  writer.writerow(['Underweight', 'Non-smoker', 'Non-drinker', 'Active', 'Low'])\n",
        "  writer.writerow(['Underweight', 'Non-smoker', 'Drinker', 'Inactive', 'Medium'])\n",
        "  writer.writerow(['Underweight', 'Non-smoker', 'Drinker', 'Active', 'Low'])\n",
        "#underweight smoker\n",
        "  writer.writerow(['Underweight', 'Smoker', 'Non-drinker', 'Inactive', 'High'])\n",
        "  writer.writerow(['Underweight', 'Smoker', 'Non-drinker', 'Active', 'High'])\n",
        "  writer.writerow(['Underweight', 'Smoker', 'Drinker', 'Inactive', 'High'])\n",
        "  writer.writerow(['Underweight', 'Smoker', 'Drinker', 'Active', 'High'])\n",
        "#normal weight\n",
        "  writer.writerow(['Normal weight', 'Non-smoker', 'Non-drinker', 'Inactive', 'Medium'])\n",
        "  writer.writerow(['Normal weight', 'Non-smoker', 'Non-drinker', 'Active', 'Low'])\n",
        "  writer.writerow(['Normal weight', 'Non-smoker', 'Drinker', 'Inactive', 'Medium'])\n",
        "  writer.writerow(['Normal weight', 'Non-smoker', 'Drinker', 'Active', 'Low'])\n",
        "#normal weight smoker\n",
        "  writer.writerow(['Normal weight', 'Smoker', 'Non-drinker', 'Inactive', 'Medium'])\n",
        "  writer.writerow(['Normal weight', 'Smoker', 'Non-drinker', 'Active', 'Medium'])\n",
        "  writer.writerow(['Normal weight', 'Smoker', 'Drinker', 'Inactive', 'High'])\n",
        "  writer.writerow(['Normal weight', 'Smoker', 'Drinker', 'Active', 'Medium'])\n",
        "#overweight\n",
        "  writer.writerow(['Overweight', 'Non-smoker', 'Non-drinker', 'Inactive', 'Medium'])\n",
        "  writer.writerow(['Overweight', 'Non-smoker', 'Non-drinker', 'Active', 'Medium'])\n",
        "  writer.writerow(['Overweight', 'Non-smoker', 'Drinker', 'Inactive', 'Medium'])\n",
        "  writer.writerow(['Overweight', 'Non-smoker', 'Drinker', 'Active', 'Medium'])\n",
        "#overweight smoker\n",
        "  writer.writerow(['Overweight', 'Smoker', 'Non-drinker', 'Inactive', 'High'])\n",
        "  writer.writerow(['Overweight', 'Smoker', 'Non-drinker', 'Active', 'High'])\n",
        "  writer.writerow(['Overweight', 'Smoker', 'Drinker', 'Inactive', 'High'])\n",
        "  writer.writerow(['Overweight', 'Smoker', 'Drinker', 'Active', 'High'])\n",
        "#Obesity\n",
        "  writer.writerow(['Obesity', 'Non-smoker', 'Non-drinker', 'Inactive', 'High'])\n",
        "  writer.writerow(['Obesity', 'Non-smoker', 'Non-drinker', 'Active', 'High'])\n",
        "  writer.writerow(['Obesity', 'Non-smoker', 'Drinker', 'Inactive', 'High'])\n",
        "  writer.writerow(['Obesity', 'Non-smoker', 'Drinker', 'Active', 'High'])\n",
        "#Obesity smoker\n",
        "  writer.writerow(['Obesity', 'Smoker', 'Non-drinker', 'Inactive', 'High'])\n",
        "  writer.writerow(['Obesity', 'Smoker', 'Non-drinker', 'Active', 'High'])\n",
        "  writer.writerow(['Obesity', 'Smoker', 'Drinker', 'Inactive', 'High'])\n",
        "  writer.writerow(['Obesity', 'Smoker', 'Drinker', 'Active', 'High'])\n"
      ],
      "metadata": {
        "id": "hwnfgXVChDnA"
      },
      "execution_count": null,
      "outputs": []
    },
    {
      "cell_type": "markdown",
      "source": [
        "####**Gen AI Prompt 1: Response**"
      ],
      "metadata": {
        "id": "2NiIs2m33AZn"
      }
    },
    {
      "cell_type": "markdown",
      "source": [
        "1. Load the CSV Data into a DataFrame\n",
        "First, you'll need to load the CSV file into a Pandas DataFrame.\n",
        "\n",
        "2. Take User Input\n",
        "Then, collect the user input for each category.\n",
        "\n",
        "3. Search for the Matching Row\n",
        "Use the collected input to filter the DataFrame and find the matching row.\n",
        "\n",
        "4. Output the Heart Condition Risk\n",
        "Finally, display the Heart Condition Risk based on the matched row.\n",
        "\n",
        "Here's how you can implement this in Python:"
      ],
      "metadata": {
        "id": "VzYFX9RWje0P"
      }
    },
    {
      "cell_type": "code",
      "source": [
        "#ChatGPT Response code:\n",
        "\n",
        "import pandas as pd\n",
        "\n",
        "# Load the CSV data into a DataFrame\n",
        "df = pd.read_csv(\"Heart_Condition_Risk_Prediction.csv\")\n",
        "\n",
        "# Get user input\n",
        "bmi_category = input(\"Please enter your BMI Category (Underweight, Normal weight, Overweight, Obesity): \")\n",
        "smoking_status = input(\"Please enter your Smoking Status (Non-smoker, Smoker): \")\n",
        "alcohol_status = input(\"Please enter your Alcohol Consumption Status (Non-drinker, Drinker): \")\n",
        "activity_status = input(\"Please enter your Physical Activity Status (Inactive, Active): \")\n",
        "\n",
        "# Filter the DataFrame to find the matching row\n",
        "matching_row = df[\n",
        "    (df['BMI Category'] == bmi_category) &\n",
        "    (df['Smoking Status'] == smoking_status) &\n",
        "    (df['Alcohol Consumption Status'] == alcohol_status) &\n",
        "    (df['Physical Activity Status'] == activity_status)\n",
        "]\n",
        "\n",
        "# Check if a matching row was found\n",
        "if not matching_row.empty:\n",
        "    heart_condition_risk = matching_row['Heart Condition Risk'].values[0]\n",
        "    print(f\"Your heart condition risk is: {heart_condition_risk}\")\n",
        "else:\n",
        "    print(\"No matching data found. Please check your inputs and try again.\")\n"
      ],
      "metadata": {
        "id": "PN38tdYwgTVr"
      },
      "execution_count": null,
      "outputs": []
    },
    {
      "cell_type": "markdown",
      "source": [
        "#### **Gen AI Prompt 1: Response Effectiveness**\n"
      ],
      "metadata": {
        "id": "lpfXUX3rirrN"
      }
    },
    {
      "cell_type": "markdown",
      "source": [
        "The suggested code for user inputs did not account for input errors. We also needed to use inputs for height and weight to calculate bmi and then define the bmi category. The main code I was not sure how to do was:\n",
        "\n",
        "\n",
        "\n",
        "```\n",
        "# Load the CSV data into a DataFrame\n",
        "df = pd.read_csv(\"Heart_Condition_Risk_Prediction.csv\")\n",
        "# Filter the DataFrame to find the matching row\n",
        "matching_row = df[\n",
        "    (df['BMI Category'] == bmi_category) &\n",
        "    (df['Smoking Status'] == smoking_status) &\n",
        "    (df['Alcohol Consumption Status'] == alcohol_status) &\n",
        "    (df['Physical Activity Status'] == activity_status)\n",
        "]\n",
        "\n",
        "# Check if a matching row was found\n",
        "if not matching_row.empty:\n",
        "    heart_condition_risk = matching_row['Heart Condition Risk'].values[0]\n",
        "    print(f\"Your heart condition risk is: {heart_condition_risk}\")\n",
        "else:\n",
        "    print(\"No matching data found. Please check your inputs and try again.\")\n",
        "\n",
        "```\n",
        "\n",
        "The data frame itself was quite effective in outputting the correct heart condition risk prediction."
      ],
      "metadata": {
        "id": "MZV8DTEcgSrW"
      }
    },
    {
      "cell_type": "markdown",
      "source": [
        "#### **Gen AI Prompt 1: Modification Needed/Implemented**\n",
        "\n",
        "Changed user inputs so user will be prompted to answer again if incorrect input. Defined each input into a variable to be collected at the end.\n",
        "After multiple trials, occasionally the output would return with no matching data or \"Unknown\" which was the modified output when no data could be found. This was due to some inconsistencies in formatting such as upper case and lower case e.g. \"Normal weight\" was initially written as \"Normal Weight\" in `calculate_bmi_category()`, which did not match the value in the csv file. I had to be meticulous in checking every line was the same.\n",
        "\n"
      ],
      "metadata": {
        "id": "yFJPkoZEnGLA"
      }
    },
    {
      "cell_type": "code",
      "source": [
        "        #get user input weight\n",
        "        def weight_num():\n",
        "          weight = None\n",
        "          while weight is None or weight < 1:\n",
        "            try:\n",
        "              weight = float(input(\"Please enter patient's weight in kg: \"))\n",
        "              if weight > 1:\n",
        "                return weight\n",
        "              else:\n",
        "                print(\"Invalid input for weight. Weight must be more than 1 kg.\")\n",
        "            except ValueError:\n",
        "              print(\"Invalid input for weight. Please key in a numerical value for weight in kg.\")\n",
        "\n",
        "\n",
        "        #get user input height\n",
        "        def height_num():\n",
        "          height = None\n",
        "          while height is None or height > 3:\n",
        "            try:\n",
        "              height = float(input(\"Please enter patient's height in metres: \"))\n",
        "              if height <= 3 :\n",
        "                return height\n",
        "              else:\n",
        "                print(\"Invalid input for height. Please enter value for height in metres\")\n",
        "            except ValueError:\n",
        "              print(\"Invalid input for height. Please enter numerical value for height in metres\")\n",
        "\n",
        "        #calculate bmi number\n",
        "        def calc_bmi(weight, height):\n",
        "          bmi_num = weight / (height * height)\n",
        "          return float(round(bmi_num, 2))\n",
        "\n",
        "        #calculate bmi category\n",
        "        def calculate_bmi_category(weight, height):\n",
        "          bmi = weight / (height ** 2)\n",
        "          if bmi < 18.5:\n",
        "            return 'Underweight'\n",
        "          elif 18.5 <= bmi < 24.9:\n",
        "            return 'Normal weight'\n",
        "          elif 24.9 <= bmi < 29.9:\n",
        "            return 'Overweight'\n",
        "          else:\n",
        "            return 'Obesity'\n",
        "\n",
        "\n",
        "        #get user input for smoking status\n",
        "        def smoke_stat():\n",
        "          smoking_status = None\n",
        "          while smoking_status not in [\"y\", \"n\"]:\n",
        "              smoking_status = input(\"Is the patient a smoker? (y/n) \")\n",
        "              if smoking_status == \"y\":\n",
        "                return \"Smoker\"\n",
        "              elif smoking_status == \"n\":\n",
        "                return \"Non-smoker\"\n",
        "              else:\n",
        "                print(\"Input invalid. Please answer 'y' or 'n' \")\n",
        "\n",
        "        #get user input for drinking status\n",
        "        def drink_stat():\n",
        "          drinking_status = None\n",
        "          while drinking_status not in [\"y\", \"n\"]:\n",
        "            drinking_status = input(\"Does the patient drink alcohol? (y/n) \")\n",
        "            if drinking_status == \"y\":\n",
        "              return \"Drinker\"\n",
        "            elif drinking_status == \"n\":\n",
        "              return \"Non-drinker\"\n",
        "            else:\n",
        "              print(\"Input invalid. Please answer 'y' or 'n' \")\n",
        "\n",
        "        #get user input for physical activity status\n",
        "        def phys_stat():\n",
        "          physical_activity = None\n",
        "          while physical_activity not in [\"y\", \"n\"]:\n",
        "            physical_activity = input(\"Is the patient physically active? (y/n) \")\n",
        "            if physical_activity == \"y\":\n",
        "              return \"Active\"\n",
        "            elif physical_activity == \"n\":\n",
        "              return \"Inactive\"\n",
        "            else:\n",
        "                print(\"Input invalid. Please answer 'y' or 'n' \")\n",
        "\n",
        "\n",
        "      #collect user inputs\n",
        "        weight = weight_num()\n",
        "        height = height_num()\n",
        "        bmi_category = calculate_bmi_category(weight,height)\n",
        "        bmi_num = calc_bmi(weight,height)\n",
        "        smoking_status = smoke_stat()\n",
        "        drinking_status = drink_stat()\n",
        "        physical_activity = phys_stat()\n",
        "\n",
        "\n",
        "        #read heart_condition_risk_prediction csv file for risk assessment matrix\n",
        "\n",
        "        df_matrix = pd.read_csv(\"Heart_Condition_Risk_Prediction.csv\") #using panda to make the dataframe matrix\n",
        "\n",
        "        #create the function to predict heart condition risk\n",
        "\n",
        "        def predict_heart_condition_risk(bmi_category, smoking_status, drinking_status, physical_activity):\n",
        "          match_row = df_matrix[\n",
        "          (df_matrix[\"BMI Category\"] == bmi_category) &\n",
        "          (df_matrix[\"Smoking Status\"] == smoking_status) &\n",
        "          (df_matrix[\"Alcohol Consumption Status\"] == drinking_status) &\n",
        "          (df_matrix[\"Physical Activity Status\"] == physical_activity)\n",
        "          ]\n",
        "          if not match_row.empty:\n",
        "            return match_row[\"Heart Condition Risk\"].values[0]\n",
        "          else:\n",
        "            return \"Error\"\n",
        "        risk = predict_heart_condition_risk(bmi_category, smoking_status, drinking_status, physical_activity)\n",
        "\n"
      ],
      "metadata": {
        "id": "MGVQlluCoVFb"
      },
      "execution_count": null,
      "outputs": []
    },
    {
      "cell_type": "markdown",
      "source": [
        "###**Gen AI Prompt 2: Asking user if they wish to continue**"
      ],
      "metadata": {
        "id": "MkDu1hntu6i0"
      }
    },
    {
      "cell_type": "markdown",
      "source": [
        "#### Gen AI Prompt:\n",
        "\n",
        "Asking Gen AI to prompt user to decide if they wish to continue."
      ],
      "metadata": {
        "id": "awhXKb0ikDPB"
      }
    },
    {
      "cell_type": "code",
      "source": [
        "#ChatGPT Prompt: modify the code above to prompt user to decide if they want to continue with adding another line\n",
        "\n",
        "##the following is the code given in the prompt:\n",
        "\n",
        "#create csv file for user inputs and results\n",
        "with open(\"User_Input_Health_Data.csv\", 'w') as file:\n",
        "  '''\n",
        "  Creates a writer object which will convert the user’s data into\n",
        "  delimited strings on the given file-like object (health_data).\n",
        "  '''\n",
        "\n",
        "  writer = csv.writer(file)\n",
        "\n",
        "  writer.writerow(['Name', 'Age', 'Gender', 'Weight', 'Height', 'BMI Category', 'Smoking Status', 'Alcohol Consumption Status', 'Physical Activity Status', 'Heart Condition Risk'])\n",
        "\n",
        "\n",
        "  # get user input name\n",
        "  name = input(\"Please enter name: \")\n",
        "\n",
        "  #get user input age\n",
        "  def age_num():\n",
        "    age = None\n",
        "    while age is None or age > 120 or age < 0:\n",
        "      try:\n",
        "        age = int(input(\"Please enter age: \"))\n",
        "        if 0 <= age <= 120:\n",
        "          return age\n",
        "          break\n",
        "        else:\n",
        "          print(\"Invalid input for age. Age cannot be less than 0 or more than 120.\")\n",
        "      except ValueError:\n",
        "        print(\"Invalid input for age. Please enter integer value for age.\")\n",
        "\n",
        "\n",
        "  #get user input gender\n",
        "  def gen():\n",
        "    gender = None\n",
        "    while gender not in [\"m\", \"f\"]:\n",
        "        gender = input(\"Please enter gender (m/f): \")\n",
        "        if gender == \"f\":\n",
        "          return \"Female\"\n",
        "        elif gender == \"m\":\n",
        "          return \"Male\"\n",
        "        else:\n",
        "          print (gender + \" is not a valid gender. Please enter 'm' or 'f'.\")\n",
        "\n",
        "\n",
        "  #get user input weight\n",
        "  def weight_num():\n",
        "    weight = None\n",
        "    while weight is None or weight < 1:\n",
        "      try:\n",
        "        weight = float(input(\"Please enter your weight in kg: \"))\n",
        "        if weight > 1:\n",
        "          return weight\n",
        "          break\n",
        "        else:\n",
        "          print(\"Invalid input for weight. Weight must be more than 1 kg.\")\n",
        "      except ValueError:\n",
        "        print(\"Invalid input for weight. Please key in a numerical value for weight in kg.\")\n",
        "\n",
        "\n",
        "  #get user input height\n",
        "  def height_num():\n",
        "    height = None\n",
        "    while height is None or height > 3:\n",
        "      try:\n",
        "        height = float(input(\"Please enter your height in metres: \"))\n",
        "        if height <= 3 :\n",
        "          return height\n",
        "          break\n",
        "        else:\n",
        "          print(\"Invalid input for height. Please enter value for height in metres\")\n",
        "      except ValueError:\n",
        "        print(\"Invalid input for height. Please enter numerical value for height in metres\")\n",
        "\n",
        "  #calculate bmi category from weight and height\n",
        "  def calculate_bmi_category(weight, height):\n",
        "    bmi = weight / (height ** 2)\n",
        "    if bmi < 18.5:\n",
        "      return 'Underweight'\n",
        "    elif 18.5 <= bmi < 24.9:\n",
        "      return 'Normal weight'\n",
        "    elif 24.9 <= bmi < 29.9:\n",
        "      return 'Overweight'\n",
        "    else:\n",
        "      return 'Obesity'\n",
        "\n",
        "\n",
        "  #get user input for smoking status\n",
        "  def smoke_stat():\n",
        "    smoking_status = None\n",
        "    while smoking_status not in [\"y\", \"n\"]:\n",
        "        smoking_status = input(\"Are you a smoker? (y/n) \")\n",
        "        if smoking_status == \"y\":\n",
        "          return \"Smoker\"\n",
        "        elif smoking_status == \"n\":\n",
        "          return \"Non-smoker\"\n",
        "        else:\n",
        "          print(\"Input invalid. Please answer 'y' or 'n' \")\n",
        "\n",
        "  #get user input for drinking status\n",
        "  def drink_stat():\n",
        "    drinking_status = None\n",
        "    while drinking_status not in [\"y\", \"n\"]:\n",
        "      drinking_status = input(\"Do you drink alcohol? (y/n) \")\n",
        "      if drinking_status == \"y\":\n",
        "        return \"Drinker\"\n",
        "      elif drinking_status == \"n\":\n",
        "        return \"Non-drinker\"\n",
        "      else:\n",
        "        print(\"Input invalid. Please answer 'y' or 'n' \")\n",
        "\n",
        "  #get user input for physical activity status\n",
        "  def phys_stat():\n",
        "    physical_activity = None\n",
        "    while physical_activity not in [\"y\", \"n\"]:\n",
        "      physical_activity = input(\"Are you physically active? (y/n) \")\n",
        "      if physical_activity == \"y\":\n",
        "        return \"Active\"\n",
        "      elif physical_activity == \"n\":\n",
        "        return \"Inactive\"\n",
        "      else:\n",
        "          print(\"Input invalid. Please answer 'y' or 'n' \")\n",
        "\n",
        "\n",
        "\n",
        "  age = age_num()\n",
        "  gender = gen()\n",
        "  weight = weight_num()\n",
        "  height = height_num()\n",
        "  bmi = calculate_bmi_category(weight,height)\n",
        "  smoking_status = smoke_stat()\n",
        "  drinking_status = drink_stat()\n",
        "  physical_activity = phys_stat()\n",
        "\n",
        "\n",
        "  #read heart_condition_risk_prediction csv file for risk assessment matrix\n",
        "\n",
        "  df_matrix = pd.read_csv(\"Heart_Condition_Risk_Prediction.csv\")\n",
        "\n",
        "  #create the function to predict heart condition risk\n",
        "\n",
        "  def predict_heart_condition_risk(bmi, smoking_status, drinking_status, physical_activity):\n",
        "    match_row = df_matrix[\n",
        "    (df_matrix[\"BMI Category\"] == bmi) &\n",
        "    (df_matrix[\"Smoking Status\"] == smoking_status) &\n",
        "    (df_matrix[\"Alcohol Consumption Status\"] == drinking_status) &\n",
        "    (df_matrix[\"Physical Activity Status\"] == physical_activity)\n",
        "    ]\n",
        "    if not match_row.empty:\n",
        "      return match_row[\"Heart Condition Risk\"].values[0]\n",
        "    else:\n",
        "      return \"Unknown\"\n",
        "  risk = predict_heart_condition_risk(bmi, smoking_status, drinking_status, physical_activity)\n",
        "\n",
        "\n",
        "  writer.writerow([name, age, gender, weight, height, bmi, smoking_status, drinking_status, physical_activity, risk])\n",
        "  print(f\"BMI={bmi}, Smoking={smoking_status}, Drinking={drinking_status}, Activity={physical_activity}\")\n",
        "\n",
        "  print(f\"Heart Condition Risk is {risk}\")\n",
        "\n"
      ],
      "metadata": {
        "id": "VNcooxUmiTcS",
        "colab": {
          "base_uri": "https://localhost:8080/",
          "height": 356
        },
        "outputId": "1c7bd303-7db7-473b-98a7-cb790db554f2"
      },
      "execution_count": null,
      "outputs": [
        {
          "output_type": "error",
          "ename": "KeyboardInterrupt",
          "evalue": "Interrupted by user",
          "traceback": [
            "\u001b[0;31m---------------------------------------------------------------------------\u001b[0m",
            "\u001b[0;31mKeyboardInterrupt\u001b[0m                         Traceback (most recent call last)",
            "\u001b[0;32m<ipython-input-37-41fa79ca8e61>\u001b[0m in \u001b[0;36m<cell line: 5>\u001b[0;34m()\u001b[0m\n\u001b[1;32m     15\u001b[0m \u001b[0;34m\u001b[0m\u001b[0m\n\u001b[1;32m     16\u001b[0m   \u001b[0;31m# get user input name\u001b[0m\u001b[0;34m\u001b[0m\u001b[0;34m\u001b[0m\u001b[0m\n\u001b[0;32m---> 17\u001b[0;31m   \u001b[0mname\u001b[0m \u001b[0;34m=\u001b[0m \u001b[0minput\u001b[0m\u001b[0;34m(\u001b[0m\u001b[0;34m\"Please enter name: \"\u001b[0m\u001b[0;34m)\u001b[0m\u001b[0;34m\u001b[0m\u001b[0;34m\u001b[0m\u001b[0m\n\u001b[0m\u001b[1;32m     18\u001b[0m \u001b[0;34m\u001b[0m\u001b[0m\n\u001b[1;32m     19\u001b[0m   \u001b[0;31m#get user input age\u001b[0m\u001b[0;34m\u001b[0m\u001b[0;34m\u001b[0m\u001b[0m\n",
            "\u001b[0;32m/usr/local/lib/python3.10/dist-packages/ipykernel/kernelbase.py\u001b[0m in \u001b[0;36mraw_input\u001b[0;34m(self, prompt)\u001b[0m\n\u001b[1;32m    849\u001b[0m                 \u001b[0;34m\"raw_input was called, but this frontend does not support input requests.\"\u001b[0m\u001b[0;34m\u001b[0m\u001b[0;34m\u001b[0m\u001b[0m\n\u001b[1;32m    850\u001b[0m             )\n\u001b[0;32m--> 851\u001b[0;31m         return self._input_request(str(prompt),\n\u001b[0m\u001b[1;32m    852\u001b[0m             \u001b[0mself\u001b[0m\u001b[0;34m.\u001b[0m\u001b[0m_parent_ident\u001b[0m\u001b[0;34m,\u001b[0m\u001b[0;34m\u001b[0m\u001b[0;34m\u001b[0m\u001b[0m\n\u001b[1;32m    853\u001b[0m             \u001b[0mself\u001b[0m\u001b[0;34m.\u001b[0m\u001b[0m_parent_header\u001b[0m\u001b[0;34m,\u001b[0m\u001b[0;34m\u001b[0m\u001b[0;34m\u001b[0m\u001b[0m\n",
            "\u001b[0;32m/usr/local/lib/python3.10/dist-packages/ipykernel/kernelbase.py\u001b[0m in \u001b[0;36m_input_request\u001b[0;34m(self, prompt, ident, parent, password)\u001b[0m\n\u001b[1;32m    893\u001b[0m             \u001b[0;32mexcept\u001b[0m \u001b[0mKeyboardInterrupt\u001b[0m\u001b[0;34m:\u001b[0m\u001b[0;34m\u001b[0m\u001b[0;34m\u001b[0m\u001b[0m\n\u001b[1;32m    894\u001b[0m                 \u001b[0;31m# re-raise KeyboardInterrupt, to truncate traceback\u001b[0m\u001b[0;34m\u001b[0m\u001b[0;34m\u001b[0m\u001b[0m\n\u001b[0;32m--> 895\u001b[0;31m                 \u001b[0;32mraise\u001b[0m \u001b[0mKeyboardInterrupt\u001b[0m\u001b[0;34m(\u001b[0m\u001b[0;34m\"Interrupted by user\"\u001b[0m\u001b[0;34m)\u001b[0m \u001b[0;32mfrom\u001b[0m \u001b[0;32mNone\u001b[0m\u001b[0;34m\u001b[0m\u001b[0;34m\u001b[0m\u001b[0m\n\u001b[0m\u001b[1;32m    896\u001b[0m             \u001b[0;32mexcept\u001b[0m \u001b[0mException\u001b[0m \u001b[0;32mas\u001b[0m \u001b[0me\u001b[0m\u001b[0;34m:\u001b[0m\u001b[0;34m\u001b[0m\u001b[0;34m\u001b[0m\u001b[0m\n\u001b[1;32m    897\u001b[0m                 \u001b[0mself\u001b[0m\u001b[0;34m.\u001b[0m\u001b[0mlog\u001b[0m\u001b[0;34m.\u001b[0m\u001b[0mwarning\u001b[0m\u001b[0;34m(\u001b[0m\u001b[0;34m\"Invalid Message:\"\u001b[0m\u001b[0;34m,\u001b[0m \u001b[0mexc_info\u001b[0m\u001b[0;34m=\u001b[0m\u001b[0;32mTrue\u001b[0m\u001b[0;34m)\u001b[0m\u001b[0;34m\u001b[0m\u001b[0;34m\u001b[0m\u001b[0m\n",
            "\u001b[0;31mKeyboardInterrupt\u001b[0m: Interrupted by user"
          ]
        }
      ]
    },
    {
      "cell_type": "markdown",
      "source": [
        "####**Gen AI Prompt 2: Response**"
      ],
      "metadata": {
        "id": "YwZiIGRt0a6O"
      }
    },
    {
      "cell_type": "markdown",
      "source": [
        "To modify the code so that the user can decide if they want to continue adding another line of data, you can wrap the main data input and writing logic inside a loop. After each entry is processed, the user will be prompted to decide whether they want to continue. Here’s how you can update the code:"
      ],
      "metadata": {
        "id": "CaoowJO0k_2o"
      }
    },
    {
      "cell_type": "code",
      "source": [
        "#ChatGPT Response Code\n",
        "\n",
        "import csv\n",
        "import pandas as pd\n",
        "\n",
        "# Create a CSV file and write the headers\n",
        "with open(\"User_Input_Health_Data.csv\", 'w', newline='') as file:\n",
        "    writer = csv.writer(file)\n",
        "    writer.writerow(['Name', 'Age', 'Gender', 'Weight', 'Height', 'BMI Category', 'Smoking Status', 'Alcohol Consumption Status', 'Physical Activity Status', 'Heart Condition Risk'])\n",
        "\n",
        "    while True:\n",
        "        # Get user input for various fields\n",
        "        name = input(\"Please enter name: \")\n",
        "\n",
        "        def age_num():\n",
        "            age = None\n",
        "            while age is None or age > 120 or age < 0:\n",
        "                try:\n",
        "                    age = int(input(\"Please enter age: \"))\n",
        "                    if 0 <= age <= 120:\n",
        "                        return age\n",
        "                    else:\n",
        "                        print(\"Invalid input for age. Age cannot be less than 0 or more than 120.\")\n",
        "                except ValueError:\n",
        "                    print(\"Invalid input for age. Please enter an integer value for age.\")\n",
        "\n",
        "        def gen():\n",
        "            gender = None\n",
        "            while gender not in [\"m\", \"f\"]:\n",
        "                gender = input(\"Please enter gender (m/f): \")\n",
        "                if gender == \"f\":\n",
        "                    return \"Female\"\n",
        "                elif gender == \"m\":\n",
        "                    return \"Male\"\n",
        "                else:\n",
        "                    print(gender + \" is not a valid gender. Please enter 'm' or 'f'.\")\n",
        "\n",
        "        def weight_num():\n",
        "            weight = None\n",
        "            while weight is None or weight < 1:\n",
        "                try:\n",
        "                    weight = float(input(\"Please enter your weight in kg: \"))\n",
        "                    if weight > 1:\n",
        "                        return weight\n",
        "                    else:\n",
        "                        print(\"Invalid input for weight. Weight must be more than 1 kg.\")\n",
        "                except ValueError:\n",
        "                    print(\"Invalid input for weight. Please key in a numerical value for weight in kg.\")\n",
        "\n",
        "        def height_num():\n",
        "            height = None\n",
        "            while height is None or height > 3:\n",
        "                try:\n",
        "                    height = float(input(\"Please enter your height in metres: \"))\n",
        "                    if height <= 3:\n",
        "                        return height\n",
        "                    else:\n",
        "                        print(\"Invalid input for height. Please enter value for height in metres\")\n",
        "                except ValueError:\n",
        "                    print(\"Invalid input for height. Please enter numerical value for height in metres\")\n",
        "\n",
        "        def calculate_bmi_category(weight, height):\n",
        "            bmi = weight / (height ** 2)\n",
        "            if bmi < 18.5:\n",
        "                return 'Underweight'\n",
        "            elif 18.5 <= bmi < 24.9:\n",
        "                return 'Normal weight'\n",
        "            elif 24.9 <= bmi < 29.9:\n",
        "                return 'Overweight'\n",
        "            else:\n",
        "                return 'Obesity'\n",
        "\n",
        "        def smoke_stat():\n",
        "            smoking_status = None\n",
        "            while smoking_status not in [\"y\", \"n\"]:\n",
        "                smoking_status = input(\"Are you a smoker? (y/n) \")\n",
        "                if smoking_status == \"y\":\n",
        "                    return \"Smoker\"\n",
        "                elif smoking_status == \"n\":\n",
        "                    return \"Non-smoker\"\n",
        "                else:\n",
        "                    print(\"Input invalid. Please answer 'y' or 'n' \")\n",
        "\n",
        "        def drink_stat():\n",
        "            drinking_status = None\n",
        "            while drinking_status not in [\"y\", \"n\"]:\n",
        "                drinking_status = input(\"Do you drink alcohol? (y/n) \")\n",
        "                if drinking_status == \"y\":\n",
        "                    return \"Drinker\"\n",
        "                elif drinking_status == \"n\":\n",
        "                    return \"Non-drinker\"\n",
        "                else:\n",
        "                    print(\"Input invalid. Please answer 'y' or 'n' \")\n",
        "\n",
        "        def phys_stat():\n",
        "            physical_activity = None\n",
        "            while physical_activity not in [\"y\", \"n\"]:\n",
        "                physical_activity = input(\"Are you physically active? (y/n) \")\n",
        "                if physical_activity == \"y\":\n",
        "                    return \"Active\"\n",
        "                elif physical_activity == \"n\":\n",
        "                    return \"Inactive\"\n",
        "                else:\n",
        "                    print(\"Input invalid. Please answer 'y' or 'n' \")\n",
        "\n",
        "        # Collect user inputs\n",
        "        age = age_num()\n",
        "        gender = gen()\n",
        "        weight = weight_num()\n",
        "        height = height_num()\n",
        "        bmi = calculate_bmi_category(weight, height)\n",
        "        smoking_status = smoke_stat()\n",
        "        drinking_status = drink_stat()\n",
        "        physical_activity = phys_stat()\n",
        "\n",
        "        # Read heart condition risk prediction data\n",
        "        df_matrix = pd.read_csv(\"Heart_Condition_Risk_Prediction.csv\")\n",
        "\n",
        "        def predict_heart_condition_risk(bmi, smoking_status, drinking_status, physical_activity):\n",
        "            match_row = df_matrix[\n",
        "                (df_matrix[\"BMI Category\"] == bmi) &\n",
        "                (df_matrix[\"Smoking Status\"] == smoking_status) &\n",
        "                (df_matrix[\"Alcohol Consumption Status\"] == drinking_status) &\n",
        "                (df_matrix[\"Physical Activity Status\"] == physical_activity)\n",
        "            ]\n",
        "            if not match_row.empty:\n",
        "                return match_row[\"Heart Condition Risk\"].values[0]\n",
        "            else:\n",
        "                return \"Unknown\"\n",
        "\n",
        "        # Predict heart condition risk\n",
        "        risk = predict_heart_condition_risk(bmi, smoking_status, drinking_status, physical_activity)\n",
        "\n",
        "        # Write user data to the CSV file\n",
        "        writer.writerow([name, age, gender, weight, height, bmi, smoking_status, drinking_status, physical_activity, risk])\n",
        "\n",
        "        print(f\"BMI={bmi}, Smoking={smoking_status}, Drinking={drinking_status}, Activity={physical_activity}\")\n",
        "        print(f\"Heart Condition Risk is {risk}\")\n",
        "\n",
        "        # Ask the user if they want to continue\n",
        "        continue_input = input(\"Do you want to continue entering data? (y/n) \")\n",
        "        if continue_input.lower() != 'y':\n",
        "            break\n"
      ],
      "metadata": {
        "id": "t7kVaISFikQt"
      },
      "execution_count": null,
      "outputs": []
    },
    {
      "cell_type": "markdown",
      "source": [
        "In this updated code, the main logic for collecting user input and writing to the CSV file is enclosed within a `while True` loop. After processing and writing each entry, the user is prompted with the question \"Do you want to add another entry? (y/n):\". If the user answers 'y', the loop continues and another entry can be added. If the user answers anything other than 'y', the loop breaks, and the program ends."
      ],
      "metadata": {
        "id": "yLoAAhSKlEfF"
      }
    },
    {
      "cell_type": "markdown",
      "source": [
        "#### **Gen AI Prompt 2: Response Effectiveness**\n",
        "\n",
        "\n"
      ],
      "metadata": {
        "id": "TgJNet_ikDlX"
      }
    },
    {
      "cell_type": "markdown",
      "source": [
        "\n",
        "\n",
        "\n",
        "\n",
        "```\n",
        " while True:\n",
        " continue_input = input(\"Do you want to continue entering data? (y/n) \")\n",
        "        if continue_input.lower() != 'y':\n",
        "            break\n",
        "\n",
        "```\n",
        "\n",
        "ChatGPT response incorporated \"while True\" loop and did not account for invalid inputs where \"y\" or \"n\" weren't entered. In this coding, if user inputed anything other than \"y\", the program would end. So if user typed \"yes\", program would still end. This would not have performed as the prompt would have intended.\n",
        "\n",
        "\n",
        "\n",
        "\n",
        "\n",
        "\n",
        "\n",
        "\n"
      ],
      "metadata": {
        "id": "5SkQBWBwk5kO"
      }
    },
    {
      "cell_type": "markdown",
      "source": [
        "####**Gen AI Prompt 2: Modification Needed/Implemented**"
      ],
      "metadata": {
        "id": "Ir2phRfgmtxW"
      }
    },
    {
      "cell_type": "markdown",
      "source": [
        "\n",
        "\n",
        "```\n",
        "continue_input = \"y\"\n",
        "  while continue_input == \"y\":\n",
        "      # >code for user inputs here<\n",
        "\n",
        "    #ask user if they want to continue inputting new data\n",
        "    continue_input = None #made continue_input = None so that new loop can be made when user incorrectly inputs not \"y\" or \"n\"\n",
        "    while continue_input not in [\"y\", \"n\"]:\n",
        "      try:\n",
        "        continue_input = input(\"Do you wish to add another patient? (y/n) \")\n",
        "        if continue_input == \"n\":\n",
        "          print(\"Thank you.\")\n",
        "          break\n",
        "        elif continue_input == \"y\":\n",
        "          print(\"Please fill out new patient details: \")\n",
        "        else:\n",
        "          print(\"Invalid input. Please enter 'y' or 'n'. \")\n",
        "        except ValueError:\n",
        "          print(\"Error input. Please enter 'y' or 'n'. \")\n",
        "\n",
        "  \n",
        "```\n",
        "Modified the code to not use 'while True', instead began the code so that continue_input == \"y\" so that the loop will restart only when user enters \"y\". If user enters anything other than \"y\" or \"n\", the user will be prompted again to type either \"y\" or \"n\".\n"
      ],
      "metadata": {
        "id": "_0-DQFwvk2P9"
      }
    },
    {
      "cell_type": "markdown",
      "source": [
        "###**Gen AI Prompt 3: Plotting Scatter Plot**"
      ],
      "metadata": {
        "id": "T1Ru0UsT2m40"
      }
    },
    {
      "cell_type": "markdown",
      "source": [
        "#####Gen AI Prompt:\n",
        "\n",
        "Asking Gen AI to plot scatter graph"
      ],
      "metadata": {
        "id": "5jKvV-3ohJs1"
      }
    },
    {
      "cell_type": "code",
      "source": [
        "##  Prompt: From the code above, only using matplotlib and pandas, plot the data to a scatter plot displaying\n",
        "## relationship of BMI against age highlighting heart condition risks.\n",
        "\n",
        "\n",
        "##Code given to ChatGPT:\n",
        "\n",
        "import csv\n",
        "import pandas as pd\n",
        "\n",
        "\n",
        "\n",
        "#creating new line for user input csv file, so that as user inputs, new line of data added.\n",
        "with open(\"User_Input_Health_Data.csv\", 'a', newline='') as file:\n",
        "  writer = csv.writer(file)\n",
        "\n",
        "  continue_input = \"y\"\n",
        "  while continue_input == \"y\":\n",
        "    # get user input name\n",
        "    name = input(\"Please enter name: \")\n",
        "\n",
        "    #get user input age\n",
        "    def age_num():\n",
        "      age = None\n",
        "      while age is None or age > 120 or age < 0:\n",
        "        try:\n",
        "          age = int(input(\"Please enter age: \"))\n",
        "          if 0 <= age <= 120:\n",
        "            return age\n",
        "            break\n",
        "          else:\n",
        "            print(\"Invalid input for age. Age cannot be less than 0 or more than 120.\")\n",
        "        except ValueError:\n",
        "          print(\"Invalid input for age. Please enter integer value for age.\")\n",
        "\n",
        "\n",
        "    #get user input gender\n",
        "    def gen():\n",
        "      gender = None\n",
        "      while gender not in [\"m\", \"f\"]:\n",
        "          gender = input(\"Please enter gender (m/f): \")\n",
        "          if gender == \"f\":\n",
        "            return \"Female\"\n",
        "          elif gender == \"m\":\n",
        "            return \"Male\"\n",
        "          else:\n",
        "            print (gender + \" is not a valid gender. Please enter 'm' or 'f'.\")\n",
        "\n",
        "\n",
        "    #get user input weight\n",
        "    def weight_num():\n",
        "      weight = None\n",
        "      while weight is None or weight < 1:\n",
        "        try:\n",
        "          weight = float(input(\"Please enter patient's weight in kg: \"))\n",
        "          if weight > 1:\n",
        "            return weight\n",
        "            break\n",
        "          else:\n",
        "            print(\"Invalid input for weight. Weight must be more than 1 kg.\")\n",
        "        except ValueError:\n",
        "          print(\"Invalid input for weight. Please key in a numerical value for weight in kg.\")\n",
        "\n",
        "\n",
        "    #get user input height\n",
        "    def height_num():\n",
        "      height = None\n",
        "      while height is None or height > 3:\n",
        "        try:\n",
        "          height = float(input(\"Please enter patient's height in metres: \"))\n",
        "          if height <= 3 :\n",
        "            return height\n",
        "            break\n",
        "          else:\n",
        "            print(\"Invalid input for height. Please enter value for height in metres\")\n",
        "        except ValueError:\n",
        "          print(\"Invalid input for height. Please enter numerical value for height in metres\")\n",
        "\n",
        "    #calculate bmi category from weight and height\n",
        "    def calculate_bmi_category(weight, height):\n",
        "      bmi = weight / (height ** 2)\n",
        "      if bmi < 18.5:\n",
        "        return 'Underweight'\n",
        "      elif 18.5 <= bmi < 24.9:\n",
        "        return 'Normal weight'\n",
        "      elif 24.9 <= bmi < 29.9:\n",
        "        return 'Overweight'\n",
        "      else:\n",
        "        return 'Obesity'\n",
        "\n",
        "\n",
        "    #get user input for smoking status\n",
        "    def smoke_stat():\n",
        "      smoking_status = None\n",
        "      while smoking_status not in [\"y\", \"n\"]:\n",
        "          smoking_status = input(\"Is the patient a smoker? (y/n) \")\n",
        "          if smoking_status == \"y\":\n",
        "            return \"Smoker\"\n",
        "          elif smoking_status == \"n\":\n",
        "            return \"Non-smoker\"\n",
        "          else:\n",
        "            print(\"Input invalid. Please answer 'y' or 'n' \")\n",
        "\n",
        "    #get user input for drinking status\n",
        "    def drink_stat():\n",
        "      drinking_status = None\n",
        "      while drinking_status not in [\"y\", \"n\"]:\n",
        "        drinking_status = input(\"Does the patient drink alcohol? (y/n) \")\n",
        "        if drinking_status == \"y\":\n",
        "          return \"Drinker\"\n",
        "        elif drinking_status == \"n\":\n",
        "          return \"Non-drinker\"\n",
        "        else:\n",
        "          print(\"Input invalid. Please answer 'y' or 'n' \")\n",
        "\n",
        "    #get user input for physical activity status\n",
        "    def phys_stat():\n",
        "      physical_activity = None\n",
        "      while physical_activity not in [\"y\", \"n\"]:\n",
        "        physical_activity = input(\"Is the patient physically active? (y/n) \")\n",
        "        if physical_activity == \"y\":\n",
        "          return \"Active\"\n",
        "        elif physical_activity == \"n\":\n",
        "          return \"Inactive\"\n",
        "        else:\n",
        "            print(\"Input invalid. Please answer 'y' or 'n' \")\n",
        "\n",
        "\n",
        "\n",
        "    age = age_num()\n",
        "    gender = gen()\n",
        "    weight = weight_num()\n",
        "    height = height_num()\n",
        "    bmi = calculate_bmi_category(weight,height)\n",
        "    smoking_status = smoke_stat()\n",
        "    drinking_status = drink_stat()\n",
        "    physical_activity = phys_stat()\n",
        "\n",
        "\n",
        "    #read heart_condition_risk_prediction csv file for risk assessment matrix\n",
        "\n",
        "    df_matrix = pd.read_csv(\"Heart_Condition_Risk_Prediction.csv\") #using panda to make the dataframe matrix\n",
        "\n",
        "    #create the function to predict heart condition risk\n",
        "\n",
        "    def predict_heart_condition_risk(bmi, smoking_status, drinking_status, physical_activity):\n",
        "      match_row = df_matrix[\n",
        "      (df_matrix[\"BMI Category\"] == bmi) &\n",
        "      (df_matrix[\"Smoking Status\"] == smoking_status) &\n",
        "      (df_matrix[\"Alcohol Consumption Status\"] == drinking_status) &\n",
        "      (df_matrix[\"Physical Activity Status\"] == physical_activity)\n",
        "      ]\n",
        "      if not match_row.empty:\n",
        "        return match_row[\"Heart Condition Risk\"].values[0]\n",
        "      else:\n",
        "        return \"Unknown\"\n",
        "    risk = predict_heart_condition_risk(bmi, smoking_status, drinking_status, physical_activity)\n",
        "\n",
        "\n",
        "    writer.writerow([name, age, gender, weight, height, bmi, smoking_status, drinking_status, physical_activity, risk])\n",
        "    print(f\"BMI= {bmi}, Smoking= {smoking_status}, Drinking= {drinking_status}, Activity= {physical_activity}\")\n",
        "\n",
        "    print(f\"Heart Condition Risk is {risk}\")\n",
        "\n",
        "\n",
        "\n"
      ],
      "metadata": {
        "id": "ZLaXuq7K3VZV"
      },
      "execution_count": null,
      "outputs": []
    },
    {
      "cell_type": "markdown",
      "source": [
        "####**Gen AI Prompt 3: Response**"
      ],
      "metadata": {
        "id": "EnEBMd2g54BL"
      }
    },
    {
      "cell_type": "markdown",
      "source": [
        "**Creating a Scatter Plot with Matplotlib and Pandas Only**\n",
        "\n",
        "> Import Requirred Libraries: You only need to import `matplotlib.pyplot` and `pandas`:\n",
        "\n",
        "\n",
        "```\n",
        "import matplotlib.pyplot as plt\n",
        "import pandas as pd\n",
        "\n",
        "```\n",
        "\n",
        "**Load Your Data**: Load your data from the CSV file:\n",
        "\n",
        "\n",
        "```\n",
        "df = pd.read_csv(\"User_Input_Health_Data.csv\")\n",
        "\n",
        "```\n",
        "\n",
        "**Create the Scatter Plot**: Use Matplotlib to create the scatter plot, manually handling the color mapping based on the heart condition risk category.\n"
      ],
      "metadata": {
        "id": "q6z3apGQ5-lE"
      }
    },
    {
      "cell_type": "code",
      "source": [
        "#ChatGPT response: Complete code example\n",
        "\n",
        "import matplotlib.pyplot as plt\n",
        "import pandas as pd\n",
        "\n",
        "# Load the user input data from CSV\n",
        "df = pd.read_csv(\"User_Input_Health_Data.csv\")\n",
        "\n",
        "# Create a color mapping based on the risk category\n",
        "colors = {'Low': 'green', 'Medium': 'orange', 'High': 'red', 'Unknown': 'gray'}\n",
        "\n",
        "plt.figure(figsize=(10, 6))\n",
        "\n",
        "# Plot each point\n",
        "for risk_category in df['risk'].unique():\n",
        "    subset = df[df['risk'] == risk_category]\n",
        "    plt.scatter(subset['bmi'], subset['age'],\n",
        "                c=colors[risk_category], label=risk_category, s=100)\n",
        "\n",
        "# Add labels and title\n",
        "plt.xlabel('BMI')\n",
        "plt.ylabel('Age')\n",
        "plt.title('Scatter Plot of BMI vs Age Highlighting Heart Condition Risk Categories')\n",
        "\n",
        "# Add a legend\n",
        "plt.legend(title='Risk Category')\n",
        "\n",
        "# Show the plot\n",
        "plt.show()"
      ],
      "metadata": {
        "id": "13GqyrGekn9e"
      },
      "execution_count": null,
      "outputs": []
    },
    {
      "cell_type": "markdown",
      "source": [
        "\n",
        "\n",
        "> **Explanation**:\n",
        "\n",
        "\n",
        "`colors`: A dictionary that maps each risk category to a specific color.\n",
        "\n",
        "`plt.scatter()`: Used to plot each point, with the color determined by the risk category.\n",
        "\n",
        "`for loop:` Loops through each unique risk category and plots the corresponding points.\n",
        "\n",
        "`plt.legend()`: Adds a legend to the plot to identify the colors with the risk categories.\n",
        "\n"
      ],
      "metadata": {
        "id": "goR3zMYt6Ux7"
      }
    },
    {
      "cell_type": "markdown",
      "source": [
        "#### **Gen AI Prompt 3: Response effectiveness**\n",
        "\n"
      ],
      "metadata": {
        "id": "buo0u1iSFep_"
      }
    },
    {
      "cell_type": "markdown",
      "source": [
        "The ChatGPT response was helpful in breaking down the code.\n",
        "There was some changes that needed to be made in order for the code to suit my specific code. For example:\n",
        "\n",
        "```\n",
        "      for risk_category in df['risk'].unique():\n",
        "          subset = df[df['risk'] == risk_category]\n",
        "\n",
        "```\n",
        "Needed to be modified as the header name in my csv file was \"Heart Condition Risk\". And was modified as follows:\n",
        "\n",
        "\n",
        "\n",
        "```\n",
        "      for risk_category in df['Heart Condition Risk'].unique():\n",
        "          subset = df[df['Heart Condition Risk'] == risk_category]\n",
        "```\n",
        "\n",
        "Furthermore, the figsize was a bit too big.\n",
        "\n",
        "\n",
        "\n",
        "\n",
        "\n",
        "\n"
      ],
      "metadata": {
        "id": "m09wjlLo75EL"
      }
    },
    {
      "cell_type": "markdown",
      "source": [
        "####**Gen AI Prompt 3: Modification Needed/ Implementation**\n",
        "\n",
        "After modifying the above mentioned modifications and changing the figure size to `(8, 4.8)`. I had also defined the scatter plot into a variable `scatplot_vis()`, in order to simplify the coding when making the loop to ask user to choose between 2 visualisations.\n"
      ],
      "metadata": {
        "id": "p0UiOmyk9sFe"
      }
    },
    {
      "cell_type": "code",
      "source": [
        "##Implemented code:\n",
        " #defining scatter plot graph visualisation\n",
        "    def scatplot_vis():\n",
        "      from matplotlib import pyplot as plt\n",
        "      df = pd.read_csv(\"User_Input_Health_Data.csv\")\n",
        "      # Create a color mapping based on the risk category\n",
        "      colors = {'Low': 'green', 'Medium': 'orange', 'High': 'red', 'Unknown': 'gray'}\n",
        "\n",
        "      plt.figure(figsize=(8, 4.8))\n",
        "\n",
        "      # Plot each point\n",
        "      for risk_category in df['Heart Condition Risk'].unique():\n",
        "          subset = df[df['Heart Condition Risk'] == risk_category]\n",
        "          plt.scatter(subset['BMI Number'], subset['Age'],\n",
        "                      c=colors[risk_category], label=risk_category, s=100)\n",
        "\n",
        "      # Add labels and title\n",
        "      plt.xlabel('BMI')\n",
        "      plt.ylabel('Age')\n",
        "      plt.title('Scatter Plot of BMI vs Age Highlighting Heart Condition Risk Categories')\n",
        "\n",
        "      # Add a legend\n",
        "      plt.legend(title='Risk Category')\n",
        "\n",
        "      # Show the plot\n",
        "      plt.show()\n"
      ],
      "metadata": {
        "id": "RF2YEpdJ-nzK"
      },
      "execution_count": null,
      "outputs": []
    },
    {
      "cell_type": "markdown",
      "source": [
        "### **Gen AI Prompt 4: Fixing prompt code**\n"
      ],
      "metadata": {
        "id": "f-LbrouEIi6N"
      }
    },
    {
      "cell_type": "markdown",
      "source": [
        "#### Gen AI Prompt:\n",
        "\n",
        "Modifying the code so user will be prompted again"
      ],
      "metadata": {
        "id": "WnjFdbOKmAT7"
      }
    },
    {
      "cell_type": "code",
      "source": [
        "##Prompt: modify the code so that the user will be prompted with the other options after displaying a graph\n",
        "\n",
        "#defining bar chart visualisation\n",
        "def barchart_vis():\n",
        "  from matplotlib import pyplot as plt\n",
        "  plt.style.use('_mpl-gallery')\n",
        "\n",
        "  df = pd.read_csv(\"User_Input_Health_Data.csv\")\n",
        "\n",
        "  risk_counts = df['Heart Condition Risk'].value_counts()\n",
        "\n",
        "  #plot\n",
        "  plt.figure(figsize=(8, 4.5))\n",
        "  plt.bar(risk_counts.index, risk_counts.values, color='skyblue')\n",
        "  plt.xlabel('Heart Condition Risk Category')\n",
        "  plt.ylabel('Number of Patients')\n",
        "  plt.title('Number of Patients in Each Heart Condition Risk Category')\n",
        "\n",
        "  #show\n",
        "  plt.show()\n",
        "\n",
        "#defining scatter plot graph visualisation\n",
        "def scatplot_vis():\n",
        "  from matplotlib import pyplot as plt\n",
        "  df = pd.read_csv(\"User_Input_Health_Data.csv\")\n",
        "  # Create a color mapping based on the risk category\n",
        "  colors = {'Low': 'green', 'Medium': 'orange', 'High': 'red', 'Unknown': 'gray'}\n",
        "\n",
        "  plt.figure(figsize=(10, 6))\n",
        "\n",
        "  # Plot each point\n",
        "  for risk_category in df['Heart Condition Risk'].unique():\n",
        "      subset = df[df['Heart Condition Risk'] == risk_category]\n",
        "      plt.scatter(subset['BMI Number'], subset['Age'],\n",
        "                  c=colors[risk_category], label=risk_category, s=100)\n",
        "\n",
        "  # Add labels and title\n",
        "  plt.xlabel('BMI')\n",
        "  plt.ylabel('Age')\n",
        "  plt.title('Scatter Plot of BMI vs Age Highlighting Heart Condition Risk Categories')\n",
        "\n",
        "  # Add a legend\n",
        "  plt.legend(title='Risk Category')\n",
        "\n",
        "  # Show the plot\n",
        "  plt.show()\n",
        "\n",
        "user_choice = None\n",
        "ask_again == \"y\"\n",
        "\n",
        "while ask_again == \"y\" or user_choice not in [\"b\", \"s\", \"n\"]:\n",
        "    user_choice = input(\"Would you like to see bar chart (b), scatter plot (s), or neither (n)? \").lower()\n",
        "\n",
        "    if user_choice == \"b\":\n",
        "      print(\"This is the barchart.\")\n",
        "      barchart_vis()\n",
        "    elif user_choice == \"s\":\n",
        "      print(\"This is the scatter plot.\")\n",
        "      scatplot_vis()\n",
        "    elif user_choice == \"n\":\n",
        "        print(\"No visualization selected.\")\n",
        "        break  # Exit the loop if the user selects neither\n",
        "    else:\n",
        "        print(\"Invalid input. Please enter 'b' for bar chart, 's' for scatter plot, or 'n' for neither.\")\n",
        "        continue  # Skip asking to continue, since the input was invalid\n",
        "\n",
        "    # Ask again after showing the chart\n",
        "    ask_again = input(\"Would you like to be asked again? (y/n)? \").lower()\n",
        "\n",
        "    # Validate ask_again input\n",
        "    while ask_again not in [\"y\", \"n\"]:\n",
        "        print(\"Invalid input. Please enter 'y' or 'n'.\")\n",
        "        ask_again = input(\"Would you like to be asked again? (y/n)? \").lower()\n",
        "\n",
        "# Exiting message\n",
        "if ask_again == \"n\":\n",
        "    print(\"Exiting the program.\")\n"
      ],
      "metadata": {
        "id": "KfvwGHJhI042"
      },
      "execution_count": null,
      "outputs": []
    },
    {
      "cell_type": "markdown",
      "source": [
        "####**Gen AI Prompt 4: Response**"
      ],
      "metadata": {
        "id": "r7O88grs9fpZ"
      }
    },
    {
      "cell_type": "code",
      "source": [
        "\n",
        "#ChatGPT code example:\n",
        "\n",
        "import pandas as pd\n",
        "from matplotlib import pyplot as plt\n",
        "\n",
        "# Defining bar chart visualization\n",
        "def barchart_vis():\n",
        "    plt.style.use('_mpl-gallery')\n",
        "    df = pd.read_csv(\"User_Input_Health_Data.csv\")\n",
        "    risk_counts = df['Heart Condition Risk'].value_counts()\n",
        "\n",
        "    # Plot\n",
        "    plt.figure(figsize=(8, 4.5))\n",
        "    plt.bar(risk_counts.index, risk_counts.values, color='skyblue')\n",
        "    plt.xlabel('Heart Condition Risk Category')\n",
        "    plt.ylabel('Number of Patients')\n",
        "    plt.title('Number of Patients in Each Heart Condition Risk Category')\n",
        "\n",
        "    # Show\n",
        "    plt.show()\n",
        "\n",
        "# Defining scatter plot graph visualization\n",
        "def scatplot_vis():\n",
        "    df = pd.read_csv(\"User_Input_Health_Data.csv\")\n",
        "    # Create a color mapping based on the risk category\n",
        "    colors = {'Low': 'green', 'Medium': 'orange', 'High': 'red', 'Unknown': 'gray'}\n",
        "\n",
        "    plt.figure(figsize=(10, 6))\n",
        "\n",
        "    # Plot each point\n",
        "    for risk_category in df['Heart Condition Risk'].unique():\n",
        "        subset = df[df['Heart Condition Risk'] == risk_category]\n",
        "        plt.scatter(subset['BMI Number'], subset['Age'],\n",
        "                    c=colors[risk_category], label=risk_category, s=100)\n",
        "\n",
        "    # Add labels and title\n",
        "    plt.xlabel('BMI')\n",
        "    plt.ylabel('Age')\n",
        "    plt.title('Scatter Plot of BMI vs Age Highlighting Heart Condition Risk Categories')\n",
        "\n",
        "    # Add a legend\n",
        "    plt.legend(title='Risk Category')\n",
        "\n",
        "    # Show the plot\n",
        "    plt.show()\n",
        "\n",
        "user_choice = None\n",
        "\n",
        "while True:\n",
        "    user_choice = input(\"Would you like to see bar chart (b), scatter plot (s), or neither (n)? \").lower()\n",
        "\n",
        "    if user_choice == \"b\":\n",
        "        print(\"This is the bar chart.\")\n",
        "        barchart_vis()\n",
        "    elif user_choice == \"s\":\n",
        "        print(\"This is the scatter plot.\")\n",
        "        scatplot_vis()\n",
        "    elif user_choice == \"n\":\n",
        "        print(\"No visualization selected.\")\n",
        "        break  # Exit the loop if the user selects neither\n",
        "    else:\n",
        "        print(\"Invalid input. Please enter 'b' for bar chart, 's' for scatter plot, or 'n' for neither.\")\n",
        "        continue  # Skip asking to continue, since the input was invalid\n",
        "\n",
        "    # Ask again after showing the chart\n",
        "    ask_again = input(\"Would you like to see another visualization? (y/n)? \").lower()\n",
        "\n",
        "    # Validate ask_again input\n",
        "    while ask_again not in [\"y\", \"n\"]:\n",
        "        print(\"Invalid input. Please enter 'y' or 'n'.\")\n",
        "        ask_again = input(\"Would you like to see another visualization? (y/n)? \").lower()\n",
        "\n",
        "    if ask_again == \"n\":\n",
        "        print(\"Exiting the program.\")\n",
        "        break\n"
      ],
      "metadata": {
        "colab": {
          "base_uri": "https://localhost:8080/",
          "height": 912
        },
        "collapsed": true,
        "id": "7DBHSUM3KC7-",
        "outputId": "0e6cd7a2-bc22-4c56-e147-41e3e435cd0c"
      },
      "execution_count": null,
      "outputs": [
        {
          "output_type": "stream",
          "name": "stdout",
          "text": [
            "Would you like to see bar chart (b), scatter plot (s), or neither (n)? b\n",
            "This is the bar chart.\n"
          ]
        },
        {
          "output_type": "display_data",
          "data": {
            "text/plain": [
              "<Figure size 800x450 with 1 Axes>"
            ],
            "image/png": "[encoded data removed]"
          },
          "metadata": {}
        },
        {
          "output_type": "error",
          "ename": "KeyboardInterrupt",
          "evalue": "Interrupted by user",
          "traceback": [
            "\u001b[0;31m---------------------------------------------------------------------------\u001b[0m",
            "\u001b[0;31mKeyboardInterrupt\u001b[0m                         Traceback (most recent call last)",
            "\u001b[0;32m<ipython-input-16-f26cb8f5eb4a>\u001b[0m in \u001b[0;36m<cell line: 47>\u001b[0;34m()\u001b[0m\n\u001b[1;32m     62\u001b[0m \u001b[0;34m\u001b[0m\u001b[0m\n\u001b[1;32m     63\u001b[0m     \u001b[0;31m# Ask again after showing the chart\u001b[0m\u001b[0;34m\u001b[0m\u001b[0;34m\u001b[0m\u001b[0m\n\u001b[0;32m---> 64\u001b[0;31m     \u001b[0mask_again\u001b[0m \u001b[0;34m=\u001b[0m \u001b[0minput\u001b[0m\u001b[0;34m(\u001b[0m\u001b[0;34m\"Would you like to see another visualization? (y/n)? \"\u001b[0m\u001b[0;34m)\u001b[0m\u001b[0;34m.\u001b[0m\u001b[0mlower\u001b[0m\u001b[0;34m(\u001b[0m\u001b[0;34m)\u001b[0m\u001b[0;34m\u001b[0m\u001b[0;34m\u001b[0m\u001b[0m\n\u001b[0m\u001b[1;32m     65\u001b[0m \u001b[0;34m\u001b[0m\u001b[0m\n\u001b[1;32m     66\u001b[0m     \u001b[0;31m# Validate ask_again input\u001b[0m\u001b[0;34m\u001b[0m\u001b[0;34m\u001b[0m\u001b[0m\n",
            "\u001b[0;32m/usr/local/lib/python3.10/dist-packages/ipykernel/kernelbase.py\u001b[0m in \u001b[0;36mraw_input\u001b[0;34m(self, prompt)\u001b[0m\n\u001b[1;32m    849\u001b[0m                 \u001b[0;34m\"raw_input was called, but this frontend does not support input requests.\"\u001b[0m\u001b[0;34m\u001b[0m\u001b[0;34m\u001b[0m\u001b[0m\n\u001b[1;32m    850\u001b[0m             )\n\u001b[0;32m--> 851\u001b[0;31m         return self._input_request(str(prompt),\n\u001b[0m\u001b[1;32m    852\u001b[0m             \u001b[0mself\u001b[0m\u001b[0;34m.\u001b[0m\u001b[0m_parent_ident\u001b[0m\u001b[0;34m,\u001b[0m\u001b[0;34m\u001b[0m\u001b[0;34m\u001b[0m\u001b[0m\n\u001b[1;32m    853\u001b[0m             \u001b[0mself\u001b[0m\u001b[0;34m.\u001b[0m\u001b[0m_parent_header\u001b[0m\u001b[0;34m,\u001b[0m\u001b[0;34m\u001b[0m\u001b[0;34m\u001b[0m\u001b[0m\n",
            "\u001b[0;32m/usr/local/lib/python3.10/dist-packages/ipykernel/kernelbase.py\u001b[0m in \u001b[0;36m_input_request\u001b[0;34m(self, prompt, ident, parent, password)\u001b[0m\n\u001b[1;32m    893\u001b[0m             \u001b[0;32mexcept\u001b[0m \u001b[0mKeyboardInterrupt\u001b[0m\u001b[0;34m:\u001b[0m\u001b[0;34m\u001b[0m\u001b[0;34m\u001b[0m\u001b[0m\n\u001b[1;32m    894\u001b[0m                 \u001b[0;31m# re-raise KeyboardInterrupt, to truncate traceback\u001b[0m\u001b[0;34m\u001b[0m\u001b[0;34m\u001b[0m\u001b[0m\n\u001b[0;32m--> 895\u001b[0;31m                 \u001b[0;32mraise\u001b[0m \u001b[0mKeyboardInterrupt\u001b[0m\u001b[0;34m(\u001b[0m\u001b[0;34m\"Interrupted by user\"\u001b[0m\u001b[0;34m)\u001b[0m \u001b[0;32mfrom\u001b[0m \u001b[0;32mNone\u001b[0m\u001b[0;34m\u001b[0m\u001b[0;34m\u001b[0m\u001b[0m\n\u001b[0m\u001b[1;32m    896\u001b[0m             \u001b[0;32mexcept\u001b[0m \u001b[0mException\u001b[0m \u001b[0;32mas\u001b[0m \u001b[0me\u001b[0m\u001b[0;34m:\u001b[0m\u001b[0;34m\u001b[0m\u001b[0;34m\u001b[0m\u001b[0m\n\u001b[1;32m    897\u001b[0m                 \u001b[0mself\u001b[0m\u001b[0;34m.\u001b[0m\u001b[0mlog\u001b[0m\u001b[0;34m.\u001b[0m\u001b[0mwarning\u001b[0m\u001b[0;34m(\u001b[0m\u001b[0;34m\"Invalid Message:\"\u001b[0m\u001b[0;34m,\u001b[0m \u001b[0mexc_info\u001b[0m\u001b[0;34m=\u001b[0m\u001b[0;32mTrue\u001b[0m\u001b[0;34m)\u001b[0m\u001b[0;34m\u001b[0m\u001b[0;34m\u001b[0m\u001b[0m\n",
            "\u001b[0;31mKeyboardInterrupt\u001b[0m: Interrupted by user"
          ]
        }
      ]
    },
    {
      "cell_type": "markdown",
      "source": [
        "Changes made:\n",
        "\n",
        "Imported `pandas `and `matplotlib.pyplot` at the beginning of the script.\n",
        "\n",
        "Changed `ask_again == \"y\"` to `while True:` for a continuous loop.\n",
        "\n",
        "Removed redundant `ask_again` check and validation inside the loop.\n",
        "\n",
        "Updated the prompt and validation for `ask_again` to ensure proper exit conditions."
      ],
      "metadata": {
        "id": "zrSqOZCzKByC"
      }
    },
    {
      "cell_type": "markdown",
      "source": [
        "####**Gen AI Prompt 4: Response Effectiveness**"
      ],
      "metadata": {
        "id": "ey9zkdErLcAr"
      }
    },
    {
      "cell_type": "markdown",
      "source": [
        "The Gen AI response was not very effective because it suggested `while True` loop which should be avoided when possible.\n",
        "\n",
        "Even after implementing the changes made by Gen AI suggestions, the code still would not run the input prompting the user if they wish to see the other visualisation.\n",
        "\n",
        "The code would only work sometimes when the page was refreshed, otherwise it would continue to run without giving the prompt.\n",
        "\n"
      ],
      "metadata": {
        "id": "l6nYAZ3GL03c"
      }
    },
    {
      "cell_type": "markdown",
      "source": [
        "####**Gen AI Prompt 4: Modification Needed/ Implemented**"
      ],
      "metadata": {
        "id": "h37OTG_NM-K1"
      }
    },
    {
      "cell_type": "markdown",
      "source": [
        "After multiple trials and error, the code still would not run as intended.\n",
        "Hence, I removed the loop asking user if they wish to see the options again and instead printed to user that they could rerun the program to see the other visualisation.\n"
      ],
      "metadata": {
        "id": "kuMn9KYKNHsf"
      }
    },
    {
      "cell_type": "code",
      "source": [
        "##Implemented code\n",
        "# Defining bar chart visualization\n",
        "def barchart_vis():\n",
        "    plt.style.use('_mpl-gallery')\n",
        "    df = pd.read_csv(\"User_Input_Health_Data.csv\")\n",
        "    risk_counts = df['Heart Condition Risk'].value_counts()\n",
        "\n",
        "    # Plot\n",
        "    plt.figure(figsize=(8, 4.5))\n",
        "    plt.bar(risk_counts.index, risk_counts.values, color='skyblue')\n",
        "    plt.xlabel('Heart Condition Risk Category')\n",
        "    plt.ylabel('Number of Patients')\n",
        "    plt.title('Number of Patients in Each Heart Condition Risk Category')\n",
        "\n",
        "    # Show\n",
        "    plt.show()\n",
        "\n",
        "# Defining scatter plot graph visualization\n",
        "def scatplot_vis():\n",
        "    df = pd.read_csv(\"User_Input_Health_Data.csv\")\n",
        "    # Create a color mapping based on the risk category\n",
        "    colors = {'Low': 'green', 'Medium': 'orange', 'High': 'red', 'Unknown': 'gray'}\n",
        "\n",
        "    plt.figure(figsize=(8, 4.8))\n",
        "\n",
        "    # Plot each point\n",
        "    for risk_category in df['Heart Condition Risk'].unique():\n",
        "        subset = df[df['Heart Condition Risk'] == risk_category]\n",
        "        plt.scatter(subset['BMI Number'], subset['Age'],\n",
        "                    c=colors[risk_category], label=risk_category, s=100)\n",
        "\n",
        "    # Add labels and title\n",
        "    plt.xlabel('BMI')\n",
        "    plt.ylabel('Age')\n",
        "    plt.title('Scatter Plot of BMI vs Age Highlighting Heart Condition Risk Categories')\n",
        "\n",
        "    # Add a legend\n",
        "    plt.legend(title='Risk Category')\n",
        "\n",
        "    # Show the plot\n",
        "    plt.show()\n",
        "\n",
        "user_choice = None\n",
        "\n",
        "while user_choice not in [\"b\", \"s\", \"n\"]:\n",
        "    user_choice = input(\"Would you like to see bar chart (b), scatter plot (s), or neither (n)? \").lower()\n",
        "\n",
        "    if user_choice == \"b\":\n",
        "        print(\"This is the barchart.\")\n",
        "        barchart_vis()\n",
        "        print(\"To see other options again, rerun the program.\")\n",
        "        print(\"Have a nice day.\")\n",
        "        break\n",
        "    elif user_choice == \"s\":\n",
        "        print(\"This is the scatter plot.\")\n",
        "        scatplot_vis()\n",
        "        print(\"To see other options again, rerun the program.\")\n",
        "        print(\"Have a nice day.\")\n",
        "        break\n",
        "    elif user_choice == \"n\":\n",
        "        print(\"No visualization selected.\")\n",
        "        break  # Exit the loop if the user selects neither\n",
        "    else:\n",
        "        print(\"Invalid input. Please enter 'b' for bar chart, 's' for scatter plot, or 'n' for neither.\")\n",
        "        continue  # Skip asking to continue, since the input was invalid\n"
      ],
      "metadata": {
        "colab": {
          "base_uri": "https://localhost:8080/",
          "height": 637
        },
        "id": "grT0Gd1cNxy8",
        "outputId": "771c8214-c804-4845-ed09-57a80fc72ec1"
      },
      "execution_count": null,
      "outputs": [
        {
          "output_type": "stream",
          "name": "stdout",
          "text": [
            "Would you like to see bar chart (b), scatter plot (s), or neither (n)? s\n",
            "This is the scatter plot.\n"
          ]
        },
        {
          "output_type": "display_data",
          "data": {
            "text/plain": [
              "<Figure size 800x480 with 1 Axes>"
            ],
            "image/png": "[encoded data removed]"
          },
          "metadata": {}
        },
        {
          "output_type": "stream",
          "name": "stdout",
          "text": [
            "To see other options again, rerun the program.\n",
            "Have a nice day.\n"
          ]
        }
      ]
    },
    {
      "cell_type": "markdown",
      "source": [
        "# **Problem Solving Discussion and Documentation**"
      ],
      "metadata": {
        "id": "cb53NkYgzRKY"
      }
    },
    {
      "cell_type": "markdown",
      "source": [
        "###**Six-Step Problem Solving Methodology**\n",
        "\n"
      ],
      "metadata": {
        "id": "IyZwyK_K_kHK"
      }
    },
    {
      "cell_type": "markdown",
      "source": [
        "####***Steps 1 through 3.***"
      ],
      "metadata": {
        "id": "SMo9YYqV4C71"
      }
    },
    {
      "cell_type": "markdown",
      "source": [
        "1. **Problem Statement:**\n",
        "  Develop an application that predicts the likelihood of heart failure using health and lifestyle data i.e. BMI, smoking, alcohol and physical activity, which are based on the predefined assessment matrix. Then, it must store the user data into a CSV file and generate at least 2 visualisations.\n",
        "\n",
        "\n",
        "2. **Input/Output Description:**\n",
        "\n",
        " Inputs:\n",
        "  1.   Patient data: name, age, gender, weight, height, parameters for BMI categories, smoking status, drinking status, and physical activity status.\n",
        "\n",
        "  2. Heart Condition Risk Prediction Table including BMI Category, Smoking Status, and Heart Condition Risk.\n",
        "\n",
        "  Outputs:  \n",
        "      1. Heart Condition Risk Prediction based on user inputs and Risk Prediction Table.\n",
        "\n",
        "      2. Store collected data into a CSV file.\n",
        "\n",
        "      3. 2 visual representations based on inputed data.\n",
        "\n",
        "3. **Work the problem by hand:**\n",
        "  \n",
        "  If a user entered the following data into given prompts:\n",
        "\n",
        "        Name: Aidan\n",
        "\n",
        "        Age: 21\n",
        "\n",
        "        Gender: Male\n",
        "\n",
        "        Weight: 49 kg\n",
        "\n",
        "        Height: 1.74 m\n",
        "\n",
        "        BMI Category: *Needs to be calculated.*\n",
        "\n",
        "        Smoking status: Non-smoker\n",
        "\n",
        "        Alcohol Consumption status: Non-drinker\n",
        "\n",
        "        Physical Activity Status: Inactive.\n",
        "\n",
        "  Then to find the predicted heart risk:\n",
        "\n",
        "\n",
        "*   Calculate the BMI `weight/(height)^2 = BMI`\n",
        "\n",
        "    For Aidan: `49/(1.74)^2 = 16.18 `\n",
        "    \n",
        "*   Parameters for BMI categories:\n",
        "\n",
        "      ```\n",
        "      bmi < 18.5, bmi = Underweight\n",
        "\n",
        "      18.5 <= bmi < 24.9, bmi = Normal weight\n",
        "\n",
        "      24.9 <= bmi < 29.9, bmi = Overweight\n",
        "\n",
        "      29.9 <= bmi = Obesity\n",
        "      ```\n",
        "    \n",
        "    Aidan's bmi = 16.18 < 18.5 so Aidan is Underweight.\n",
        "\n",
        "\n",
        "*   Then compare to the Heart Prediction Risk Table and match corresponding heart condition risk to \"Underweight\", \"Non-smoker\", \"Non-drinker\" and \"Inactive\"\n",
        "*   Aidan's predicted heart condition risk is: Medium.\n",
        "\n",
        "\n",
        "\n",
        "\n",
        "\n",
        "\n",
        "\n",
        "\n",
        "\n",
        "\n",
        "\n"
      ],
      "metadata": {
        "id": "OPlmYciB5BoR"
      }
    },
    {
      "cell_type": "markdown",
      "source": [
        "####***Step 4 Developing Algorithm***"
      ],
      "metadata": {
        "id": "shiDKNgU6VM3"
      }
    },
    {
      "cell_type": "markdown",
      "source": [
        "My beginning pseudocode:\n",
        "\n",
        "1. Create CSV file detailing Heart Condition Risk Prediction\n",
        "\n",
        "2.  Get user to input data\n",
        "  *   Get user name\n",
        "  *   Get user age\n",
        "  *   Get user gender\n",
        "  *   Get user weight\n",
        "  *   Get user height\n",
        "  *   Get user smoking status\n",
        "  *   Get user drinking status\n",
        "  *   Get user physical activity status\n",
        "\n",
        "3. Calculate BMI and BMI category\n",
        "4. Load CSV file with Heart Condition Risk Prediction data\n",
        "5. Determine heart condition risk using CSV file from user data\n",
        "6. Save the user input and the predicted risk into a new CSV file\n",
        "7. Offer the user the choice between 2 visualisation options\n",
        "  *   Display bar chart showing number of people within each predicted risk category\n",
        "  *   Display scatter plot of BMI against Age colour-coded by risk.\n",
        "\n",
        "\n",
        "\n",
        "\n",
        "\n",
        "\n",
        "\n",
        "\n",
        "  \n",
        "\n",
        "\n",
        "\n",
        "\n",
        "\n"
      ],
      "metadata": {
        "id": "ivw8wM4k47dY"
      }
    },
    {
      "cell_type": "markdown",
      "source": [
        "As I was coding, I rearranged my algorithm and added new things to make the application feel more interactive.\n",
        "The next pseudocode/algorithm:\n",
        "\n",
        "1. Create CSV file detailing Heart Condition Risk Prediction (in separate code cell)\n",
        "\n",
        "1. Start program with a welcome message, explain what the program does.\n",
        "2. Ask the user if they wished to continue. If not, exit the program.\n",
        "3. If yes, run the following:\n",
        "  *   Get patient name\n",
        "  *   Get patient age\n",
        "  *   Get patient gender\n",
        "  *   Get patient weight\n",
        "  *   Get patient height\n",
        "  *   Calculate bmi from weight, height\n",
        "  *   Determine bmi category from weight, height\n",
        "  *   Get patient smoking status\n",
        "  *   Get patient drinking status\n",
        "  *   Get physical activity status\n",
        "4. load heart condition risk prediction CSV file as the dataframe matrix\n",
        "5. Use user inputs (BMI Category, Smoking Status, Alcohol Consumption Status, Physical Activity) to match a row in the matrix outputting heart condition risk.\n",
        "7. Save the user input and predicted risk into a CSV file.\n",
        "8. Offer the user the choice between 2 visualisation options\n",
        "  *   Display bar chart showing number of people within each predicted risk category\n",
        "  *   Display scatter plot of BMI against Age colour-coded by risk.\n",
        "\n",
        "\n",
        "\n",
        "\n",
        "\n"
      ],
      "metadata": {
        "id": "qSfXzV7C79N6"
      }
    },
    {
      "cell_type": "markdown",
      "source": [
        "Initially, I had also wanted to give the user the choice to see the other visualisation option that they did not pick, after the chosen graph was displayed, in a loop.\n",
        "\n",
        "However, due to difficulties with the code not running the prompt after the graph was displayed, I decided to make a separate program that can be ran before the Heart Condition Risk Prediction Program. This is the first program: \"Program 1: Visualising existing data\".\n",
        "\n",
        "The goal was to allow the user to visualise the data without having to input a new patient's data first.\n",
        "Hence, this was the final algorithm/pseudocode:\n",
        "\n",
        "1. Create CSV file detailing Heart Condition Risk Prediction\n",
        "2. Create CSV file for patient input data\n",
        "\n",
        "Program 1\n",
        "1. define visualisations\n",
        "  *   Define bar chart visualisation\n",
        "  *   Define scatter plot visualisation\n",
        "4. Welcome user and tell user what program does (visualisation program)\n",
        "5. ask user if wish to continue. If no, exit program\n",
        "6. If yes, ask user which visualisation they would like to see\n",
        "  *   if bar chart, display barchart\n",
        "  *   if scatter plot, display scatter plot\n",
        "  *   If neither, exit program\n",
        "7. Tell user they can rerun program to see other option\n",
        "\n",
        "Program 2\n",
        "\n",
        "1. Start program with a welcome message, explain what the program does.\n",
        "2. Ask the user if they wished to continue. If not, exit the program.\n",
        "3. If yes, append User Input Health data csv file:\n",
        "4. Get user inputs:\n",
        "  *   Get patient name\n",
        "  *   Get patient age\n",
        "  *   Get patient gender\n",
        "  *   Get patient weight\n",
        "  *   Get patient height\n",
        "\n",
        "  * Calculate bmi from weight, height\n",
        "\n",
        "  * Determine bmi category from weight, height\n",
        "\n",
        "  * Get patient smoking status\n",
        "  *   Get patient drinking status\n",
        "  *   Get physical activity status\n",
        "\n",
        "4. load heart condition risk prediction CSV file as the dataframe matrix\n",
        "5. Use user inputs (BMI Category, Smoking Status, Alcohol Consumption Status, Physical Activity) to match a row in the matrix outputting heart condition risk.\n",
        "7. Save the user input and predicted risk into a CSV file.\n",
        "8. Ask user if they wish to add another row of data, if yes rerun steps 3-8. If no, continue.\n",
        "\n",
        "8. Offer the user the choice between 2 visualisation options including added data\n",
        "  *   Display bar chart showing number of people within each predicted risk category\n",
        "  *   Display scatter plot of BMI against Age colour-coded by risk.\n",
        "  * If neither end program\n",
        "\n",
        "10. Tell user they can run Program 1 to see any visualisation options again\n",
        "11. End program\n",
        "\n",
        "\n",
        "\n",
        "\n",
        "\n",
        "\n",
        "\n",
        "\n"
      ],
      "metadata": {
        "id": "WJPHJmnK_xE0"
      }
    },
    {
      "cell_type": "markdown",
      "source": [
        "####***Step 5 Convert algorithm/pseudocode to Python***"
      ],
      "metadata": {
        "id": "db9hLBnYFuIP"
      }
    },
    {
      "cell_type": "markdown",
      "source": [
        "I had left comments throughout my whole source code which stemmed from my algorithm.\n",
        "\n",
        "Below, I have reprinted the following to link my algorithm lines with the python code created from it"
      ],
      "metadata": {
        "id": "2RILMW1lR81P"
      }
    },
    {
      "cell_type": "markdown",
      "source": [
        "##### \"Start program with a welcome message, explain what the program does\" and \"Ask the user if they wish to continue\" converted to python:"
      ],
      "metadata": {
        "id": "L9SRxek-QUZl"
      }
    },
    {
      "cell_type": "code",
      "source": [
        "#Welcome messages so user knows what program does.\n",
        "print(\"Welcome.\")\n",
        "print(\"This program is for adding new patient data, determining the heart condition risk and getting one option of the updated visualisation of the data.\")\n",
        "\n",
        "#ask user if they wish to continue. If not exit the program.\n",
        "#creating loop so user can choose to leave program\n",
        "start_program = None\n",
        "while start_program not in ['y', 'n']:\n",
        "  start_program = input(\"Do you wish to continue? (y/n) \")\n",
        "  if start_program == \"n\":\n",
        "    print(\"Thank you. Exiting program\")\n",
        "    break\n",
        "  else:\n",
        "    print(\"Invalid input. Please enter 'y' for yes, or 'n' for no.\" )"
      ],
      "metadata": {
        "id": "qvq8KV3mQJIs"
      },
      "execution_count": null,
      "outputs": []
    },
    {
      "cell_type": "markdown",
      "source": [
        "##### \"Getting user inputs\" converted to python:"
      ],
      "metadata": {
        "id": "g9nSO4WfKEQv"
      }
    },
    {
      "cell_type": "code",
      "source": [
        "# getting user input data:\n",
        "\n",
        "# get user input name\n",
        "name = input(\"Please enter patient name: \")\n",
        "\n",
        "#functions for getting user input data:\n",
        "#get user input age\n",
        "def age_num():\n",
        "  age = None\n",
        "  while age is None or age > 120 or age < 0:\n",
        "    try:\n",
        "      age = int(input(\"Please enter patient age: \"))\n",
        "      if 0 <= age <= 120:\n",
        "        return age\n",
        "      else:\n",
        "        print(\"Invalid input for age. Age cannot be less than 0 or more than 120.\")\n",
        "    except ValueError:\n",
        "      print(\"Invalid input for age. Please enter integer value for age.\"\n",
        "\n",
        "#get user input gender\n",
        "def gen():\n",
        "  gender = None\n",
        "  while gender not in [\"m\", \"f\"]:\n",
        "      gender = input(\"Please enter patient gender (m/f): \")\n",
        "      if gender == \"f\":\n",
        "        return \"Female\"\n",
        "      elif gender == \"m\":\n",
        "        return \"Male\"\n",
        "      else:\n",
        "        print (gender + \" is not a valid gender. Please enter 'm' or 'f'.\")\n",
        "\n",
        "# get user input weight\n",
        "def weight_num():\n",
        "  weight = None\n",
        "  while weight is None or weight < 1:\n",
        "    try:\n",
        "      weight = float(input(\"Please enter patient's weight in kg: \"))\n",
        "      if weight > 1:\n",
        "        return weight\n",
        "      else:\n",
        "        print(\"Invalid input for weight. Weight must be more than 1 kg.\")\n",
        "    except ValueError:\n",
        "      print(\"Invalid input for weight. Please key in a numerical value for weight in kg.\")\n",
        "\n",
        "# get user input height\n",
        "def height_num():\n",
        "  height = None\n",
        "  while height is None or height > 3:\n",
        "    try:\n",
        "      height = float(input(\"Please enter patient's height in metres: \"))\n",
        "      if height <= 3:\n",
        "        return height\n",
        "      else:\n",
        "        print(\"Invalid input for height. Please enter value for height in metres\")\n",
        "    except ValueError:\n",
        "      print(\"Invalid input for height. Please enter numerical value for height in metres.\")\n",
        "\n",
        "# calculate bmi number\n",
        "def calc_bmi(weight, height):\n",
        "  bmi_num = weight / (height * height)\n",
        "  return float(round(bmi_num, 2))\n",
        "\n",
        "# calculate bmi category\n",
        "def calculate_bmi_category(weight, height):\n",
        "  bmi = weight / (height ** 2)\n",
        "  if bmi < 18.5:\n",
        "    return 'Underweight'\n",
        "  elif 18.5 <= bmi < 24.9:\n",
        "    return 'Normal weight'\n",
        "  elif 24.9 <= bmi < 29.9:\n",
        "    return 'Overweight'\n",
        "  else:\n",
        "    return 'Obesity'\n",
        "\n",
        "# get user input for smoking status\n",
        "def smoke_stat():\n",
        "  smoking_status = None\n",
        "  while smoking_status not in [\"y\", \"n\"]:\n",
        "    smoking_status = input(\"Is the patient a smoker? (y/n) \")\n",
        "    if smoking_status == \"y\":\n",
        "      return \"Smoker\"\n",
        "    elif smoking_status == \"n\":\n",
        "      return \"Non-smoker\"\n",
        "    else:\n",
        "      print(\"Input invalid. Please answer 'y' or 'n' \")\n",
        "\n",
        "# get user input for drinking status\n",
        "def drink_stat():\n",
        "  drinking_status = None\n",
        "  while drinking_status not in [\"y\", \"n\"]:\n",
        "    drinking_status = input(\"Does the patient drink alcohol? (y/n) \")\n",
        "    if drinking_status == \"y\":\n",
        "      return \"Drinker\"\n",
        "    elif drinking_status == \"n\":\n",
        "      return \"Non-drinker\"\n",
        "    else:\n",
        "      print(\"Input invalid. Please answer 'y' or 'n' \")\n",
        "\n",
        "# get user input for physical activity status\n",
        "def phys_stat():\n",
        "  physical_activity = None\n",
        "  while physical_activity not in [\"y\", \"n\"]:\n",
        "    physical_activity = input(\"Is the patient physically active? (y/n) \")\n",
        "    if physical_activity == \"y\":\n",
        "      return \"Active\"\n",
        "    elif physical_activity == \"n\":\n",
        "      return \"Inactive\"\n",
        "    else:\n",
        "      print(\"Input invalid. Please answer 'y' or 'n' \")\n",
        "\n",
        "#collect user inputs\n",
        "age = age_num()\n",
        "gender = gen()\n",
        "weight = weight_num()\n",
        "height = height_num()\n",
        "bmi_category = calculate_bmi_category(weight,height)\n",
        "bmi_num = calc_bmi(weight,height)\n",
        "smoking_status = smoke_stat()\n",
        "drinking_status = drink_stat()\n",
        "physical_activity = phys_stat()\n"
      ],
      "metadata": {
        "id": "9QF9fc5UGgra"
      },
      "execution_count": null,
      "outputs": []
    },
    {
      "cell_type": "markdown",
      "source": [
        "##### \"Load heart condition risk prediction CSV file as the dataframe matrix\" converted to python:"
      ],
      "metadata": {
        "id": "tirs5BVROHXO"
      }
    },
    {
      "cell_type": "code",
      "source": [
        "#create the function to predict heart condition risk\n",
        "def predict_heart_condition_risk(bmi_category, smoking_status, drinking_status, physical_activity):\n",
        "    df_matrix = pd.read_csv(\"Heart_Condition_Risk_Prediction.csv\")\n",
        "    match_row = df_matrix[\n",
        "        (df_matrix[\"BMI Category\"] == bmi_category) &\n",
        "        (df_matrix[\"Smoking Status\"] == smoking_status) &\n",
        "        (df_matrix[\"Alcohol Consumption Status\"] == drinking_status) &\n",
        "        (df_matrix[\"Physical Activity Status\"] == physical_activity)\n",
        "    ]\n",
        "    if not match_row.empty:\n",
        "        return match_row[\"Heart Condition Risk\"].values[0]\n",
        "    return \"Unknown\""
      ],
      "metadata": {
        "id": "Fdjb3V9HMyFj"
      },
      "execution_count": null,
      "outputs": []
    },
    {
      "cell_type": "markdown",
      "source": [
        "##### \"Save the user input and predicted risk into a CSV file\" converted to python:"
      ],
      "metadata": {
        "id": "lz2_0_bHQ3yc"
      }
    },
    {
      "cell_type": "code",
      "source": [
        "#saving to csv file\n",
        "with open(\"User_Input_Health_Data.csv\", 'a', newline='') as file: #Opening User Input csv file for adding new rows\n",
        "   writer = csv.writer(file)\n",
        "\n",
        " ## ~User input code here ~\n",
        "\n",
        "   writer.writerow([name, age, gender, weight, height, bmi_num, bmi_category, smoking_status, drinking_status, physical_activity, risk])\n",
        "    print(f\"BMI= {bmi_num}, BMI category= {bmi_category}, Smoking= {smoking_status}, Drinking= {drinking_status}, Activity= {physical_activity}\")\n",
        "\n",
        "    print(f\"Heart Condition Risk is {risk}\")\n"
      ],
      "metadata": {
        "id": "3rmNONCsNViL"
      },
      "execution_count": null,
      "outputs": []
    },
    {
      "cell_type": "markdown",
      "source": [
        "#####\"Ask user if they wish to add another row of data...\" converted to python:"
      ],
      "metadata": {
        "id": "DSZLZNUlRIXm"
      }
    },
    {
      "cell_type": "code",
      "source": [
        "#Letting the program know\n",
        "\n",
        "# creating loop for user to continue adding new rows if they wish\n",
        "continue_input = \"y\"\n",
        "while continue_input == \"y\":\n",
        "\n",
        "  ## ~user input data code here ~\n",
        "\n",
        "# ask user if they want to continue inputting new data\n",
        "continue_input = None  # made continue_input = None so that new loop can be made when user incorrectly inputs not \"y\" or \"n\"\n",
        "while continue_input not in [\"y\", \"n\"]:\n",
        "  try:\n",
        "    continue_input = input(\"Do you wish to add another patient? (y/n) \")\n",
        "    if continue_input == \"n\":\n",
        "      print(\"Thank you.\")\n",
        "      break\n",
        "    elif continue_input == \"y\":\n",
        "      print(\"Please fill out new patient details: \")\n",
        "    else:\n",
        "      print(\"Invalid input. Please enter 'y' or 'n'. \")\n",
        "  except ValueError:\n",
        "    print(\"Error input. Please enter 'y' or 'n'. \")\n"
      ],
      "metadata": {
        "id": "NbWOBYYfPMkt"
      },
      "execution_count": null,
      "outputs": []
    },
    {
      "cell_type": "markdown",
      "source": [
        "##### \"Offer the user the choice between 2 visualisation options including added data\" converted to python:"
      ],
      "metadata": {
        "id": "AHMLMsvhOd6M"
      }
    },
    {
      "cell_type": "code",
      "source": [
        "# Function to visualize the bar chart\n",
        "def barchart_vis():\n",
        "    df = pd.read_csv(\"User_Input_Health_Data.csv\")\n",
        "    risk_counts = df['Heart Condition Risk'].value_counts()\n",
        "    plt.bar(risk_counts.index, risk_counts.values)\n",
        "    plt.xlabel('Heart Condition Risk Category')\n",
        "    plt.ylabel('Number of Patients')\n",
        "    plt.title('Patients by Risk Category')\n",
        "    plt.show()\n",
        "\n",
        "# Function to visualize the scatter plot\n",
        "def scatplot_vis():\n",
        "    df = pd.read_csv(\"User_Input_Health_Data.csv\")\n",
        "    colors = {'Low': 'green', 'Medium': 'orange', 'High': 'red'}\n",
        "    for risk_category in df['Heart Condition Risk'].unique():\n",
        "        subset = df[df['Heart Condition Risk'] == risk_category]\n",
        "        plt.scatter(subset['BMI Number'], subset['Age'], color=colors[risk_category], label=risk_category)\n",
        "    plt.xlabel('BMI')\n",
        "    plt.ylabel('Age')\n",
        "    plt.legend(title='Risk Category')\n",
        "    plt.show()\n",
        "\n",
        "\n",
        "# Ask user to choose from visualisations\n",
        "user_choice = None\n",
        "\n",
        "while user_choice not in [\"b\", \"s\", \"n\"]:\n",
        "    user_choice = input(\"Would you like to see the new bar chart (b), scatter plot (s), or neither (n)? \").lower()\n",
        "\n",
        "    if user_choice == \"b\":\n",
        "        barchart_vis()\n",
        "        print(\"To see visualisation options again, run Program 1 above. Have a nice day.\")\n",
        "    elif user_choice == \"s\":\n",
        "        scatplot_vis()\n",
        "        print(\"To see visualisation options again, run Program 1 above. Have a nice day.\")\n",
        "    elif user_choice == \"n\":\n",
        "        print(\"No visualization selected. Exiting the program. Have a nice day.\")\n",
        "        break  # Exit the loop if the user selects neither\n",
        "    else:\n",
        "        print(\"Invalid input. Please enter 'b' for bar chart, 's' for scatter plot, or 'n' for neither.\")\n",
        "        continue  # Skip asking to continue, since the input was invalid\n",
        "\n"
      ],
      "metadata": {
        "id": "du_6PpEZNCLv"
      },
      "execution_count": null,
      "outputs": []
    },
    {
      "cell_type": "markdown",
      "source": [],
      "metadata": {
        "id": "GFWNOd6tMh5I"
      }
    },
    {
      "cell_type": "code",
      "source": [],
      "metadata": {
        "id": "177LlAvEMiUU"
      },
      "execution_count": null,
      "outputs": []
    },
    {
      "cell_type": "code",
      "source": [],
      "metadata": {
        "id": "Xg3gG1CXIf_3"
      },
      "execution_count": null,
      "outputs": []
    },
    {
      "cell_type": "code",
      "source": [],
      "metadata": {
        "id": "zZv7YIaTIVaa"
      },
      "execution_count": null,
      "outputs": []
    },
    {
      "cell_type": "markdown",
      "source": [
        "####***Step 6 Testing solution with a variety of data***"
      ],
      "metadata": {
        "id": "4tEvdouYI1hP"
      }
    },
    {
      "cell_type": "markdown",
      "source": [
        "I tested the data by running the programs and trying different \"error\" inputs to ensure that error and debugging were executing properly. I also manually double-checked that each heart risk prediction actually aligned to the corresponding values.\n",
        "I also ran the following code to double check that all inputed data was saving into the csv file."
      ],
      "metadata": {
        "id": "Ei-Eh3p0JDBh"
      }
    },
    {
      "cell_type": "code",
      "source": [
        "\n",
        "#testing if all the data inputed actually wrote into file\n",
        "with open(\"User_Input_Health_Data.csv\", 'r') as file:\n",
        "    csvreader = csv.reader(file)\n",
        "\n",
        "    for row in csvreader:\n",
        "        print(row) # print each row in the file"
      ],
      "metadata": {
        "colab": {
          "base_uri": "https://localhost:8080/"
        },
        "id": "xFyWZ_h9absb",
        "outputId": "425279df-2140-4a44-8dc6-bd40945a7fd8"
      },
      "execution_count": null,
      "outputs": [
        {
          "output_type": "stream",
          "name": "stdout",
          "text": [
            "['Name', 'Age', 'Gender', 'Weight', 'Height', 'BMI Number', 'BMI Category', 'Smoking Status', 'Alcohol Consumption Status', 'Physical Activity Status', 'Heart Condition Risk']\n",
            "['James', '23', 'Male', '67.0', '1.69', '23.46', 'Normal weight', 'Smoker', 'Drinker', 'Inactive', 'High']\n",
            "['Alice', '30', 'Female', '56.0', '1.65', '20.57', 'Normal weight', 'Non-smoker', 'Drinker', 'Active', 'Low']\n",
            "['Jason', '78', 'Male', '85.0', '1.9', '23.55', 'Normal weight', 'Smoker', 'Drinker', 'Active', 'Medium']\n",
            "['Obiwan', '15', 'Male', '50.0', '1.64', '18.59', 'Normal weight', 'Non-smoker', 'Non-drinker', 'Active', 'Low']\n",
            "['Mariah', '67', 'Female', '80.0', '1.63', '30.11', 'Obesity', 'Smoker', 'Non-drinker', 'Inactive', 'High']\n",
            "['Mandy', '49', 'Female', '68.0', '1.49', '30.63', 'Obesity', 'Non-smoker', 'Drinker', 'Inactive', 'High']\n",
            "['Louisa', '55', 'Female', '75.0', '1.6', '29.3', 'Overweight', 'Non-smoker', 'Drinker', 'Inactive', 'Medium']\n",
            "['Andy', '35', 'Male', '74.0', '1.62', '28.2', 'Overweight', 'Smoker', 'Drinker', 'Active', 'High']\n",
            "['Jackson', '83', 'Male', '54.0', '1.68', '19.13', 'Normal weight', 'Smoker', 'Drinker', 'Active', 'Medium']\n",
            "['Anisa', '68', 'Female', '41.0', '1.53', '17.51', 'Underweight', 'Non-smoker', 'Non-drinker', 'Active', 'Low']\n",
            "['Army', '97', 'Male', '88.0', '1.9', '24.38', 'Normal weight', 'Smoker', 'Non-drinker', 'Active', 'Medium']\n",
            "['Lizzy', '33', 'Female', '56.0', '1.65', '20.57', 'Normal weight', 'Non-smoker', 'Drinker', 'Active', 'Low']\n",
            "['Victor', '41', 'Male', '73.0', '1.6', '28.52', 'Overweight', 'Non-smoker', 'Drinker', 'Active', 'Medium']\n",
            "['Elise', '45', 'Male', '73.0', '1.74', '24.11', 'Normal weight', 'Smoker', 'Non-drinker', 'Inactive', 'Medium']\n",
            "['Janice', '19', 'Female', '46.0', '1.63', '17.31', 'Underweight', 'Smoker', 'Drinker', 'Inactive', 'High']\n",
            "['Paul', '46', 'Male', '65.0', '1.65', '23.88', 'Normal weight', 'Non-smoker', 'Non-drinker', 'Active', 'Low']\n",
            "['Marissa', '18', 'Female', '61.0', '1.7', '21.11', 'Normal weight', 'Non-smoker', 'Non-drinker', 'Inactive', 'Medium']\n",
            "['Marquise', '17', 'Female', '50.0', '1.66', '18.14', 'Underweight', 'Non-smoker', 'Non-drinker', 'Active', 'Low']\n"
          ]
        }
      ]
    },
    {
      "cell_type": "markdown",
      "source": [
        "I also decided to create a CSV file for patient data with pre-filled values so that there will already be data to be visualised for the video-recorded demonstration. I prefilled the data by using Program 2: Heart Condition Risk Prediction to fill in sample patient information which saved into the file. I then used the above code to print out the lists which were later copied and pasted into the CSV file using writing tool in csv library."
      ],
      "metadata": {
        "id": "hmnP8fXe442K"
      }
    },
    {
      "cell_type": "markdown",
      "source": [
        "###**Choice of Data Structure**"
      ],
      "metadata": {
        "id": "nz7ZGGLrS2nQ"
      }
    },
    {
      "cell_type": "markdown",
      "source": [
        "In my code I used the following data structure choices:\n",
        "1. CSV Files\n",
        "2. Lists\n",
        "3. Pandas Dataframe\n",
        "4. Matplotlib\n",
        "\n",
        "\n"
      ],
      "metadata": {
        "id": "5G92FS_rTFYp"
      }
    },
    {
      "cell_type": "markdown",
      "source": [
        "#####*1. CSV file*"
      ],
      "metadata": {
        "id": "gHxX26D3TrtP"
      }
    },
    {
      "cell_type": "markdown",
      "source": [
        "A CSV file data structure was used to create the predefined risk assessment matrix and store user input data.\n",
        "\n",
        "The assessment task had asked for the user data to be stored in a CSV.\n",
        "\n",
        "However, I also chose to use a CSV file for creating the predefined risk assessment matrix because of its ability to permanently store and retrieve data. It is also easy for python to load the file in, and rows of data can easily be written or read.\n"
      ],
      "metadata": {
        "id": "jow8h1HxUwYX"
      }
    },
    {
      "cell_type": "markdown",
      "source": [
        "#####*2. Lists*"
      ],
      "metadata": {
        "id": "aZh2KPYFWvd5"
      }
    },
    {
      "cell_type": "markdown",
      "source": [
        "I used lists when writing data into the CSV file. Lists were also used for storing temporary data into the program.\n",
        "\n",
        "For example, `writer.writerow([...])` was used creating a temporary list of the newly inputed patient data, where each value in the list corresponded to a column in the CSV file, which was then added and stored into the CSV file."
      ],
      "metadata": {
        "id": "GNd8UaS4XAsF"
      }
    },
    {
      "cell_type": "markdown",
      "source": [
        "#####*3. Pandas Dataframe*"
      ],
      "metadata": {
        "id": "_Wn8kr-oZhuq"
      }
    },
    {
      "cell_type": "markdown",
      "source": [
        "Initially, I was unsure how to go about using the CSV file with the risk assessment matrix to output the heart risk according to the user inputs, which was why I had asked Generative AI to help me.\n",
        "\n",
        "However, after seeing the code, I have learned that Pandas has functions which can filter and select data. Using pandas to read the CSV file containing the risk predictions, I could create a data frame linking the columns of the CSV file to the returned user input functions.\n",
        "E.g.\n",
        "`pandas.read_csv()` was used to read the CSV file.\n",
        "Then,\n",
        "```\n",
        "matching_row = df[\n",
        "              (df['BMI Category'] ==  bmi_category)\n",
        "              ]\n",
        "\n",
        "```\n",
        "a data frame could be matching 'BMI Category' column in the CSV file to `bmi_category`.\n",
        "\n",
        "Finally,`predict_heart_condition_risk()` could predict the corresponding heart risk in the CSV file.\n"
      ],
      "metadata": {
        "id": "Ijqgg4Y5ZoKC"
      }
    },
    {
      "cell_type": "markdown",
      "source": [
        "##### *4. Matplotlib*"
      ],
      "metadata": {
        "id": "UkSwqisLdFOO"
      }
    },
    {
      "cell_type": "markdown",
      "source": [
        "`Matplotlib` was used to create visualisations.\n",
        "\n",
        " `Matplotlib`has a versatile plotting library and there were also resources to help me understand it from the matplotlib website which was linked in class.\n",
        "\n",
        "From class, `Matplotlib.pyplot` was used to create a bar chart, and so I understood the basic concept of creating the bar chart.\n",
        "\n",
        " I asked ChatGPT to help me with plotting the scatter plot as I was unsure of the coding for this.\n",
        "\n",
        " Chatgpt used `Pandas` to facilitate reading the CSV file in order for the data to be plotted from the CSV file into the scatter plot graph. I also implemented this when creating the bar chart.\n",
        "\n",
        " Being able to use `Pandas` with `Matplotlib` also made it a very versatile plotting library\n",
        "\n",
        "\n",
        "Overall, matplotlib was the best data structure choice for creating visualisations, due to my familiarity with it in class, its many resources on usage, and its versatility with working with `pandas`.\n",
        "\n",
        "\n",
        "\n",
        "\n",
        "\n",
        "\n"
      ],
      "metadata": {
        "id": "awurGAMzdKsG"
      }
    },
    {
      "cell_type": "code",
      "source": [],
      "metadata": {
        "id": "vAdREoRAZgOT"
      },
      "execution_count": null,
      "outputs": []
    },
    {
      "cell_type": "markdown",
      "source": [],
      "metadata": {
        "id": "Q0abXmTfWzxj"
      }
    },
    {
      "cell_type": "code",
      "source": [],
      "metadata": {
        "id": "u2dW_ti6ZcRf"
      },
      "execution_count": null,
      "outputs": []
    },
    {
      "cell_type": "markdown",
      "source": [],
      "metadata": {
        "id": "AgUgS_6xc6eC"
      }
    },
    {
      "cell_type": "markdown",
      "source": [
        "###**Handling Other Challenges**"
      ],
      "metadata": {
        "id": "Z4Zbj0bFLWSH"
      }
    },
    {
      "cell_type": "markdown",
      "source": [
        "I faced a few challenges such as in the following code, I had not typed`.csv` following the file name. Hence, nothing was being saved into the file. I was able to realise that it was not being saved in a CSV format when I had checked via the folder toggle on the sidebar.\n",
        "\n",
        "I realised the issue when comparing with the first CSV file I had written for the risk assessment matrix as that had worked correctly.\n"
      ],
      "metadata": {
        "id": "ub7s4K0khTYU"
      }
    },
    {
      "cell_type": "code",
      "source": [
        "#create csv file for user inputs and results\n",
        "\n",
        "##this was wrong cos i forgot to put .csv\n",
        "with open(\"User_Input_Health_Data\", 'w') as user_data:\n",
        "  '''\n",
        "  Creates a writer object which will convert the user’s data into\n",
        "  delimited strings on the given file-like object (health_data).\n",
        "  '''\n",
        "\n",
        "  writer = csv.writer(user_data)\n",
        "\n",
        "  writer.writerow(['Name', 'Age', 'Gender', 'Weight', 'Height', 'BMI Category', 'Smoking Status', 'Alcohol Consumption Status', 'Physical Activity Status', 'Heart Condition Risk'])"
      ],
      "metadata": {
        "id": "NS8IKphHOvzA"
      },
      "execution_count": null,
      "outputs": []
    },
    {
      "cell_type": "markdown",
      "source": [
        "Initially, I had also struggled with defining the variables for the user inputs.\n",
        "\n",
        "When reviewing the class material, particularly modules 3 through 5, I was able to have a clearer understanding of how to create the functions I needed."
      ],
      "metadata": {
        "id": "siFKYYDViGQz"
      }
    },
    {
      "cell_type": "code",
      "source": [
        "##this was my first attempt at doing the user input prompts\n",
        "\n",
        "weight = float(input(\"Please enter your weight in decimal: \"))\n",
        "height = float(input(\"Please enter your height in metres: \"))\n",
        "\n",
        "#calculate the bmi\n",
        "bmi = weight / (height * height)\n",
        "\n",
        "print(\"Your BMI is: \", bmi)\n",
        "\n",
        "def calculate_weight_status(bmi):\n",
        "  if bmi < 18.5:\n",
        "    weight_status = 'underweight'\n",
        "  elif 18.5 <= bmi < 25:\n",
        "    weight_status = 'normal weight'\n",
        "  elif 25 <= bmi < 30:\n",
        "    weight_status = 'overweight'\n",
        "  elif 30 <= bmi:\n",
        "    weight_status = 'obesity'\n",
        "  return weight_status\n",
        "\n",
        "#call the function and store result\n",
        "weight_status = calculate_weight_status(bmi)\n",
        "print(\"Your weight status is: \", weight_status)\n",
        "\n",
        "#get user input for smoking, drinking, and physical activity\n",
        "smoker_input = input(\"Are you a smoker? (yes/no): \").strip().lower()\n",
        "smoker = True if smoker_input == \"yes\" else False           ##may need fixing cos user error\n",
        "\n",
        "drinker_input = input(\"Are you a smoker? (yes/no): \").strip().lower()\n",
        "smoker = True if smoker_input == \"yes\" else False\n",
        "\n",
        "\n",
        "drinker = bool(input(\"Are you a drinker? True/false: \"))\n",
        "active = bool(input(\"Are you physically active? True/false: \"))"
      ],
      "metadata": {
        "colab": {
          "base_uri": "https://localhost:8080/"
        },
        "id": "Q8WMdAVRrmgI",
        "outputId": "92c8ea3d-4e4b-4c9e-8e49-59bd138bd318"
      },
      "execution_count": null,
      "outputs": [
        {
          "name": "stdout",
          "output_type": "stream",
          "text": [
            "Please enter your weight in decimal: 41.1\n",
            "Please enter your height in metres: 1.53\n",
            "Your BMI is:  17.557349737280536\n",
            "Are you a smoker? True/false: false\n",
            "Are you a drinker? True/false: false\n",
            "Are you physically active? True/false: false\n"
          ]
        }
      ]
    },
    {
      "cell_type": "markdown",
      "source": [
        "#**Reflection**"
      ],
      "metadata": {
        "id": "TjmW5dIei-sO"
      }
    },
    {
      "cell_type": "markdown",
      "source": [
        "**Gen AI Use for Learning:**\n",
        "\n",
        "At first, I was hesitant to use Gen AI to assist me in the coding aspects of my assignment as I wanted to attempt to figure out how to do it myself. I quickly realised that there were still some fundamental aspects to programming that I did not yet understand.\n",
        "\n",
        "I could not effectively learn programming using solely Gen AI tools, as I did often refer to the class material to help with my understanding e.g. `03_2_tax_calculation_.ipynb` was useful in learning to create the function for BMI Category.\n",
        "Learning about debugging in class also helped me to realise that I would need to look out for handling input errors while coding.\n",
        "\n",
        "**Gen AI and Assessments:**\n",
        "I did sometimes use ChatGPT to help me break down the codes taught in class for better understanding, not only for this assignment but previously throughout the teaching weeks. For example, I needed help breaking down the bar chart coding after we first learned it in class.\n",
        "\n",
        "Otherwise, I mainly only used Gen AI to help with things I was absolutely unsure of. For example, using `pandas` to create the data frame for the risk assessment matrix. After giving a prompt and having the code relayed to me, along with explanations breaking down each code, really contributed to my learning experience and understanding of programming.\n",
        "\n",
        "\n",
        "**Challenges and Documentation:**\n",
        "\n",
        "Gen AI Prompt 4, outlined above, was challenging as no matter how many times I fixed the code according to ChatGPT suggestions, it would not run accordingly. This shows that Gen AI can not always be relied upon to know exactly what is wrong with the code. However, the fact that it is not always reliable improved my problem solving skills as I needed to think on my own on how I would handle the issue. Furthermore, ChatGPT consistently uses `while True` loops which are usually advised to be avoided due to more room for error if not properly handled and increased risks for bugs.\n",
        "\n",
        "Documenting Gen AI usage using the structured approach was useful in helping me evaluate the Gen AI's ability to generate code.\n",
        "The unit's class material `04_3_Working_with_Files_Payslip_` assisted me with understanding that there are certain things to look out for demonstrated in the \"effectiveness\" section of the structured approach."
      ],
      "metadata": {
        "id": "si3bORvfjOzL"
      }
    }
  ]
}